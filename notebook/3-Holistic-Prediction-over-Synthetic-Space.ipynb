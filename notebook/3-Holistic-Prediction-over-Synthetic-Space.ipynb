{
 "cells": [
  {
   "cell_type": "markdown",
   "id": "hawaiian-conditions",
   "metadata": {},
   "source": [
    "# Load Dependency"
   ]
  },
  {
   "cell_type": "code",
   "execution_count": 39,
   "id": "white-playlist",
   "metadata": {
    "ExecuteTime": {
     "end_time": "2022-04-07T06:33:41.352387Z",
     "start_time": "2022-04-07T06:33:41.327323Z"
    }
   },
   "outputs": [],
   "source": [
    "import pandas as pd\n",
    "import itertools,glob\n",
    "from script.SelectData import get_base_index,get_selected_index\n",
    "from script.TargetTransformation import ddG2ee\n",
    "from script.MachineLearning import std_error,genCountMap,vis_distribution,DeltaLearningPrediction\n",
    "from sklearn.decomposition import PCA\n",
    "from sklearn.metrics import r2_score,mean_absolute_error\n",
    "from scipy.stats import pearsonr\n",
    "from sklearn.model_selection import KFold\n",
    "from sklearn.ensemble import ExtraTreesRegressor\n",
    "from sklearn.manifold import TSNE\n",
    "import matplotlib.pyplot as plt\n",
    "import numpy as np\n",
    "random_seed = 2022\n",
    "\n",
    "'''sel_index: Selected important index of descriptor using RFECV method. Details can be found in notebook 2'''\n",
    "sel_index = [ 0,  3,  4,  5,  6,  7,  9, 10, 11, 12, 14, 15, 16, 17, 18, 19, 21,\n",
    "              23, 24, 25, 26, 27, 30, 32, 33, 34, 36, 37, 38, 39, 40, 42, 45, 46,\n",
    "              52, 53, 59, 60, 61]"
   ]
  },
  {
   "cell_type": "markdown",
   "id": "downtown-algorithm",
   "metadata": {},
   "source": [
    "# Define Synthetic Space"
   ]
  },
  {
   "cell_type": "code",
   "execution_count": 4,
   "id": "lightweight-advertiser",
   "metadata": {
    "ExecuteTime": {
     "end_time": "2022-04-07T05:32:23.874724Z",
     "start_time": "2022-04-07T05:32:18.908830Z"
    }
   },
   "outputs": [
    {
     "name": "stdout",
     "output_type": "stream",
     "text": [
      "The size of synthetic space is: 889056\n"
     ]
    },
    {
     "data": {
      "text/html": [
       "<div>\n",
       "<style scoped>\n",
       "    .dataframe tbody tr th:only-of-type {\n",
       "        vertical-align: middle;\n",
       "    }\n",
       "\n",
       "    .dataframe tbody tr th {\n",
       "        vertical-align: top;\n",
       "    }\n",
       "\n",
       "    .dataframe thead th {\n",
       "        text-align: right;\n",
       "    }\n",
       "</style>\n",
       "<table border=\"1\" class=\"dataframe\">\n",
       "  <thead>\n",
       "    <tr style=\"text-align: right;\">\n",
       "      <th></th>\n",
       "      <th>Biaryl</th>\n",
       "      <th>Olefin</th>\n",
       "      <th>TDG</th>\n",
       "      <th>Solvent</th>\n",
       "      <th>Additive</th>\n",
       "      <th>Current</th>\n",
       "      <th>Temperature</th>\n",
       "    </tr>\n",
       "  </thead>\n",
       "  <tbody>\n",
       "    <tr>\n",
       "      <th>0</th>\n",
       "      <td>CCc1ccccc1-c1cc(F)ccc1C=O</td>\n",
       "      <td>C=CC(=O)NC(C)C</td>\n",
       "      <td>CC(C)(C)OC(=O)C[C@H](N)C(=O)O</td>\n",
       "      <td>CC#N.CC(=O)O</td>\n",
       "      <td></td>\n",
       "      <td>1</td>\n",
       "      <td>60</td>\n",
       "    </tr>\n",
       "    <tr>\n",
       "      <th>1</th>\n",
       "      <td>CCc1ccccc1-c1cc(F)ccc1C=O</td>\n",
       "      <td>C=CC(=O)NC(C)C</td>\n",
       "      <td>CC(C)(C)OC(=O)C[C@H](N)C(=O)O</td>\n",
       "      <td>CC#N.CC(=O)O</td>\n",
       "      <td></td>\n",
       "      <td>1.5</td>\n",
       "      <td>60</td>\n",
       "    </tr>\n",
       "    <tr>\n",
       "      <th>2</th>\n",
       "      <td>CCc1ccccc1-c1cc(F)ccc1C=O</td>\n",
       "      <td>C=CC(=O)NC(C)C</td>\n",
       "      <td>CC(C)(C)OC(=O)C[C@H](N)C(=O)O</td>\n",
       "      <td>CC#N.CC(=O)O</td>\n",
       "      <td>CC(=O)O[K]</td>\n",
       "      <td>1</td>\n",
       "      <td>60</td>\n",
       "    </tr>\n",
       "    <tr>\n",
       "      <th>3</th>\n",
       "      <td>CCc1ccccc1-c1cc(F)ccc1C=O</td>\n",
       "      <td>C=CC(=O)NC(C)C</td>\n",
       "      <td>CC(C)(C)OC(=O)C[C@H](N)C(=O)O</td>\n",
       "      <td>CC#N.CC(=O)O</td>\n",
       "      <td>CC(=O)O[K]</td>\n",
       "      <td>1.5</td>\n",
       "      <td>60</td>\n",
       "    </tr>\n",
       "    <tr>\n",
       "      <th>4</th>\n",
       "      <td>CCc1ccccc1-c1cc(F)ccc1C=O</td>\n",
       "      <td>C=CC(=O)NC(C)C</td>\n",
       "      <td>CC(C)(C)OC(=O)C[C@H](N)C(=O)O</td>\n",
       "      <td>CC#N.CC(=O)O</td>\n",
       "      <td>CC(=O)O[Na]</td>\n",
       "      <td>1</td>\n",
       "      <td>60</td>\n",
       "    </tr>\n",
       "    <tr>\n",
       "      <th>...</th>\n",
       "      <td>...</td>\n",
       "      <td>...</td>\n",
       "      <td>...</td>\n",
       "      <td>...</td>\n",
       "      <td>...</td>\n",
       "      <td>...</td>\n",
       "      <td>...</td>\n",
       "    </tr>\n",
       "    <tr>\n",
       "      <th>889051</th>\n",
       "      <td>O=Cc1ccccc1-c1cccc2ccccc12</td>\n",
       "      <td>C=Cc1ccccc1</td>\n",
       "      <td>O=C(O)[C@@H]1CCCN1</td>\n",
       "      <td>CC(=O)O.OCC(F)(F)F</td>\n",
       "      <td>O=S(=O)(O[Na])C(F)(F)F</td>\n",
       "      <td>1.5</td>\n",
       "      <td>60</td>\n",
       "    </tr>\n",
       "    <tr>\n",
       "      <th>889052</th>\n",
       "      <td>O=Cc1ccccc1-c1cccc2ccccc12</td>\n",
       "      <td>C=Cc1ccccc1</td>\n",
       "      <td>O=C(O)[C@@H]1CCCN1</td>\n",
       "      <td>CC(=O)O.OCC(F)(F)F</td>\n",
       "      <td>[Li]OC(C)=O</td>\n",
       "      <td>1</td>\n",
       "      <td>60</td>\n",
       "    </tr>\n",
       "    <tr>\n",
       "      <th>889053</th>\n",
       "      <td>O=Cc1ccccc1-c1cccc2ccccc12</td>\n",
       "      <td>C=Cc1ccccc1</td>\n",
       "      <td>O=C(O)[C@@H]1CCCN1</td>\n",
       "      <td>CC(=O)O.OCC(F)(F)F</td>\n",
       "      <td>[Li]OC(C)=O</td>\n",
       "      <td>1.5</td>\n",
       "      <td>60</td>\n",
       "    </tr>\n",
       "    <tr>\n",
       "      <th>889054</th>\n",
       "      <td>O=Cc1ccccc1-c1cccc2ccccc12</td>\n",
       "      <td>C=Cc1ccccc1</td>\n",
       "      <td>O=C(O)[C@@H]1CCCN1</td>\n",
       "      <td>CC(=O)O.OCC(F)(F)F</td>\n",
       "      <td>[Li]O[Cl+3]([O-])([O-])[O-]</td>\n",
       "      <td>1</td>\n",
       "      <td>60</td>\n",
       "    </tr>\n",
       "    <tr>\n",
       "      <th>889055</th>\n",
       "      <td>O=Cc1ccccc1-c1cccc2ccccc12</td>\n",
       "      <td>C=Cc1ccccc1</td>\n",
       "      <td>O=C(O)[C@@H]1CCCN1</td>\n",
       "      <td>CC(=O)O.OCC(F)(F)F</td>\n",
       "      <td>[Li]O[Cl+3]([O-])([O-])[O-]</td>\n",
       "      <td>1.5</td>\n",
       "      <td>60</td>\n",
       "    </tr>\n",
       "  </tbody>\n",
       "</table>\n",
       "<p>889056 rows × 7 columns</p>\n",
       "</div>"
      ],
      "text/plain": [
       "                            Biaryl          Olefin  \\\n",
       "0        CCc1ccccc1-c1cc(F)ccc1C=O  C=CC(=O)NC(C)C   \n",
       "1        CCc1ccccc1-c1cc(F)ccc1C=O  C=CC(=O)NC(C)C   \n",
       "2        CCc1ccccc1-c1cc(F)ccc1C=O  C=CC(=O)NC(C)C   \n",
       "3        CCc1ccccc1-c1cc(F)ccc1C=O  C=CC(=O)NC(C)C   \n",
       "4        CCc1ccccc1-c1cc(F)ccc1C=O  C=CC(=O)NC(C)C   \n",
       "...                            ...             ...   \n",
       "889051  O=Cc1ccccc1-c1cccc2ccccc12     C=Cc1ccccc1   \n",
       "889052  O=Cc1ccccc1-c1cccc2ccccc12     C=Cc1ccccc1   \n",
       "889053  O=Cc1ccccc1-c1cccc2ccccc12     C=Cc1ccccc1   \n",
       "889054  O=Cc1ccccc1-c1cccc2ccccc12     C=Cc1ccccc1   \n",
       "889055  O=Cc1ccccc1-c1cccc2ccccc12     C=Cc1ccccc1   \n",
       "\n",
       "                                  TDG             Solvent  \\\n",
       "0       CC(C)(C)OC(=O)C[C@H](N)C(=O)O        CC#N.CC(=O)O   \n",
       "1       CC(C)(C)OC(=O)C[C@H](N)C(=O)O        CC#N.CC(=O)O   \n",
       "2       CC(C)(C)OC(=O)C[C@H](N)C(=O)O        CC#N.CC(=O)O   \n",
       "3       CC(C)(C)OC(=O)C[C@H](N)C(=O)O        CC#N.CC(=O)O   \n",
       "4       CC(C)(C)OC(=O)C[C@H](N)C(=O)O        CC#N.CC(=O)O   \n",
       "...                               ...                 ...   \n",
       "889051             O=C(O)[C@@H]1CCCN1  CC(=O)O.OCC(F)(F)F   \n",
       "889052             O=C(O)[C@@H]1CCCN1  CC(=O)O.OCC(F)(F)F   \n",
       "889053             O=C(O)[C@@H]1CCCN1  CC(=O)O.OCC(F)(F)F   \n",
       "889054             O=C(O)[C@@H]1CCCN1  CC(=O)O.OCC(F)(F)F   \n",
       "889055             O=C(O)[C@@H]1CCCN1  CC(=O)O.OCC(F)(F)F   \n",
       "\n",
       "                           Additive Current Temperature  \n",
       "0                                         1          60  \n",
       "1                                       1.5          60  \n",
       "2                        CC(=O)O[K]       1          60  \n",
       "3                        CC(=O)O[K]     1.5          60  \n",
       "4                       CC(=O)O[Na]       1          60  \n",
       "...                             ...     ...         ...  \n",
       "889051       O=S(=O)(O[Na])C(F)(F)F     1.5          60  \n",
       "889052                  [Li]OC(C)=O       1          60  \n",
       "889053                  [Li]OC(C)=O     1.5          60  \n",
       "889054  [Li]O[Cl+3]([O-])([O-])[O-]       1          60  \n",
       "889055  [Li]O[Cl+3]([O-])([O-])[O-]     1.5          60  \n",
       "\n",
       "[889056 rows x 7 columns]"
      ]
     },
     "execution_count": 4,
     "metadata": {},
     "output_type": "execute_result"
    }
   ],
   "source": [
    "dataset = pd.read_csv('../dataset.csv',index_col=0)\n",
    "biaryl_smiles = dataset['Biaryl'].to_list()\n",
    "olefin_smiles = dataset['Olefin'].to_list()\n",
    "tdg_smiles = dataset['TDG'].to_list()\n",
    "solvent_smiles = dataset['Solvent'].to_list()\n",
    "additive_smiles = dataset['Additive'].to_list()\n",
    "current = dataset['Current(mA)'].to_list()\n",
    "temperature = dataset['Temperature'].to_list()\n",
    "additive_smiles = [item if isinstance(item,str) else '' for item in additive_smiles]\n",
    "\n",
    "biaryl_smi_set = sorted(list(set(biaryl_smiles)))\n",
    "olefin_smi_set = sorted(list(set(olefin_smiles)))\n",
    "tdg_smi_set = sorted(list(set(tdg_smiles)))\n",
    "sol_smi_set = sorted(list(set(solvent_smiles)))\n",
    "add_smi_set = sorted(list(set(additive_smiles)))\n",
    "current_set = [1,1.5]\n",
    "temp_set = [60]\n",
    "\n",
    "synthetic_space = []\n",
    "for item in itertools.product(biaryl_smi_set,olefin_smi_set,\n",
    "    tdg_smi_set,sol_smi_set,add_smi_set,current_set,temp_set):\n",
    "    synthetic_space.append(item)\n",
    "synthetic_space_array = np.array(synthetic_space)\n",
    "synthetic_space = pd.DataFrame.from_records(synthetic_space_array)\n",
    "synthetic_space.columns = ['Biaryl','Olefin','TDG','Solvent','Additive','Current','Temperature']\n",
    "\n",
    "print(\"The size of synthetic space is: %d\"%len(synthetic_space))\n",
    "synthetic_space"
   ]
  },
  {
   "cell_type": "markdown",
   "id": "finite-steps",
   "metadata": {},
   "source": [
    "# Load Descriptors"
   ]
  },
  {
   "cell_type": "code",
   "execution_count": 5,
   "id": "recognized-apparel",
   "metadata": {
    "ExecuteTime": {
     "end_time": "2022-04-07T05:32:27.417652Z",
     "start_time": "2022-04-07T05:32:27.413211Z"
    }
   },
   "outputs": [],
   "source": [
    "dataset_physorg_desc = np.load('../descriptors/dataset_physorg_desc.npz')\n",
    "train_x = dataset_physorg_desc['descriptors'][:,sel_index]\n",
    "ddG = dataset_physorg_desc['target']"
   ]
  },
  {
   "cell_type": "code",
   "execution_count": 6,
   "id": "favorite-curve",
   "metadata": {
    "ExecuteTime": {
     "end_time": "2022-04-07T05:32:29.602981Z",
     "start_time": "2022-04-07T05:32:28.430482Z"
    }
   },
   "outputs": [
    {
     "name": "stdout",
     "output_type": "stream",
     "text": [
      "Shape of space descriptors: (889056, 39)\n"
     ]
    }
   ],
   "source": [
    "space_physorg_desc = []\n",
    "physorg_desc_files = sorted(glob.glob('../descriptors/space/*.npz'),key=lambda x:eval(x.split('.')[-2].split('-')[-1]))\n",
    "for file in physorg_desc_files:\n",
    "    zload = np.load(file)\n",
    "    desc = zload['descriptors']\n",
    "    desc_name = zload['descriptor_names']\n",
    "    space_physorg_desc.append(desc)\n",
    "space_x = np.concatenate(space_physorg_desc,axis=0)[:,sel_index]\n",
    "print('Shape of space descriptors:',space_x.shape)"
   ]
  },
  {
   "cell_type": "markdown",
   "id": "passive-bosnia",
   "metadata": {},
   "source": [
    "# Perform Prediction over Synthetic Space"
   ]
  },
  {
   "cell_type": "markdown",
   "id": "blocked-specialist",
   "metadata": {},
   "source": [
    "## Select Points for Training Base Model"
   ]
  },
  {
   "cell_type": "code",
   "execution_count": 7,
   "id": "biological-orlando",
   "metadata": {
    "ExecuteTime": {
     "end_time": "2022-04-07T05:32:35.390796Z",
     "start_time": "2022-04-07T05:32:35.258372Z"
    }
   },
   "outputs": [],
   "source": [
    "for i in range(train_x.shape[1]):\n",
    "    pca_sel = PCA(n_components=i,random_state=random_seed)\n",
    "    train_x_sel_pca = pca_sel.fit_transform(train_x)\n",
    "    if pca_sel.explained_variance_ratio_.sum() > 0.9:\n",
    "        break\n",
    "base_th = 8\n",
    "base_index = get_base_index(train_x_sel_pca,threshold=base_th,rand_seed=random_seed)\n",
    "rest_index = list(set(range(len(train_x))) - set(base_index))\n",
    "base_x = train_x[base_index]\n",
    "rest_x = train_x[rest_index]\n",
    "base_y = ddG[base_index]\n",
    "rest_y = ddG[rest_index]"
   ]
  },
  {
   "cell_type": "markdown",
   "id": "respective-prerequisite",
   "metadata": {},
   "source": [
    "## Group Points in the Synthetic Space"
   ]
  },
  {
   "cell_type": "markdown",
   "id": "peripheral-louis",
   "metadata": {},
   "source": [
    "There are two groups of data points in the synthetic space. One group is data with existed regional data for training delta model. The other has no regional data."
   ]
  },
  {
   "cell_type": "code",
   "execution_count": 8,
   "id": "ecological-internship",
   "metadata": {
    "ExecuteTime": {
     "end_time": "2022-04-07T05:47:59.108987Z",
     "start_time": "2022-04-07T05:32:38.603881Z"
    }
   },
   "outputs": [],
   "source": [
    "select_th = 60\n",
    "\n",
    "base_model_only_point_idx = []\n",
    "\n",
    "idx2selidx_map = {}   \n",
    "for idx in range(len(space_x)):\n",
    "    point_x = space_x[idx].reshape(1,-1)\n",
    "    point_x_sel_pca = pca_sel.transform(point_x)\n",
    "    rest_x_sel_pca = pca_sel.transform(rest_x)\n",
    "    sel_idx = get_selected_index(point_x_sel_pca,rest_x_sel_pca,\n",
    "              method='cosine',threshold=select_th) \n",
    "    idx2selidx_map[idx] = sel_idx\n",
    "    if len(sel_idx) == 0:\n",
    "        base_model_only_point_idx.append(idx)\n",
    "delta_model_point_idx = list(set(range(len(space_x)))-set(base_model_only_point_idx))\n",
    "\n",
    "selidx2idxs_map = {}           \n",
    "for idx in delta_model_point_idx:\n",
    "    selidx = tuple(idx2selidx_map[idx])\n",
    "    if not selidx in selidx2idxs_map:\n",
    "        selidx2idxs_map[selidx] = [idx]\n",
    "    else:\n",
    "        selidx2idxs_map[selidx].append(idx)  "
   ]
  },
  {
   "cell_type": "markdown",
   "id": "naked-outline",
   "metadata": {},
   "source": [
    "## Train $\\Delta$-Learning Model and Perform Prediction"
   ]
  },
  {
   "cell_type": "code",
   "execution_count": 9,
   "id": "looking-samuel",
   "metadata": {
    "ExecuteTime": {
     "end_time": "2022-04-07T05:50:59.317641Z",
     "start_time": "2022-04-07T05:48:18.771650Z"
    },
    "scrolled": true
   },
   "outputs": [],
   "source": [
    "k_fold_num = 5\n",
    "\n",
    "\n",
    "base_model = ExtraTreesRegressor(n_jobs=-1,random_state=random_seed)\n",
    "specific_model = ExtraTreesRegressor(n_jobs=-1,random_state=random_seed)\n",
    "point_pred_map,point_error_map = DeltaLearningPrediction(base_x,rest_x,space_x,base_y,rest_y,\n",
    "                                 base_model,specific_model,base_model_only_point_idx,\n",
    "                                 selidx2idxs_map,k_fold_num)"
   ]
  },
  {
   "cell_type": "markdown",
   "id": "roman-worcester",
   "metadata": {},
   "source": [
    "Save the prediction results"
   ]
  },
  {
   "cell_type": "code",
   "execution_count": 10,
   "id": "explicit-centre",
   "metadata": {
    "ExecuteTime": {
     "end_time": "2022-04-07T05:51:55.389448Z",
     "start_time": "2022-04-07T05:51:50.738463Z"
    }
   },
   "outputs": [],
   "source": [
    "synthetic_space['Pred ddG'] = [point_pred_map[i] for i in point_pred_map]\n",
    "synthetic_space['Pred Error'] = [point_error_map[i] for i in point_error_map]\n",
    "synthetic_space.to_csv('../whole_synthetic_space_predictions.csv')"
   ]
  },
  {
   "cell_type": "code",
   "execution_count": 12,
   "id": "upper-macintosh",
   "metadata": {
    "ExecuteTime": {
     "end_time": "2022-04-07T05:52:40.852022Z",
     "start_time": "2022-04-07T05:52:40.840060Z"
    },
    "scrolled": true
   },
   "outputs": [
    {
     "data": {
      "text/html": [
       "<div>\n",
       "<style scoped>\n",
       "    .dataframe tbody tr th:only-of-type {\n",
       "        vertical-align: middle;\n",
       "    }\n",
       "\n",
       "    .dataframe tbody tr th {\n",
       "        vertical-align: top;\n",
       "    }\n",
       "\n",
       "    .dataframe thead th {\n",
       "        text-align: right;\n",
       "    }\n",
       "</style>\n",
       "<table border=\"1\" class=\"dataframe\">\n",
       "  <thead>\n",
       "    <tr style=\"text-align: right;\">\n",
       "      <th></th>\n",
       "      <th>Biaryl</th>\n",
       "      <th>Olefin</th>\n",
       "      <th>TDG</th>\n",
       "      <th>Solvent</th>\n",
       "      <th>Additive</th>\n",
       "      <th>Current</th>\n",
       "      <th>Temperature</th>\n",
       "      <th>Pred ddG</th>\n",
       "      <th>Pred Error</th>\n",
       "    </tr>\n",
       "  </thead>\n",
       "  <tbody>\n",
       "    <tr>\n",
       "      <th>0</th>\n",
       "      <td>CCc1ccccc1-c1cc(F)ccc1C=O</td>\n",
       "      <td>C=CC(=O)NC(C)C</td>\n",
       "      <td>CC(C)(C)OC(=O)C[C@H](N)C(=O)O</td>\n",
       "      <td>CC#N.CC(=O)O</td>\n",
       "      <td></td>\n",
       "      <td>1</td>\n",
       "      <td>60</td>\n",
       "      <td>0.390301</td>\n",
       "      <td>0.412877</td>\n",
       "    </tr>\n",
       "    <tr>\n",
       "      <th>1</th>\n",
       "      <td>CCc1ccccc1-c1cc(F)ccc1C=O</td>\n",
       "      <td>C=CC(=O)NC(C)C</td>\n",
       "      <td>CC(C)(C)OC(=O)C[C@H](N)C(=O)O</td>\n",
       "      <td>CC#N.CC(=O)O</td>\n",
       "      <td></td>\n",
       "      <td>1.5</td>\n",
       "      <td>60</td>\n",
       "      <td>0.357913</td>\n",
       "      <td>0.412877</td>\n",
       "    </tr>\n",
       "    <tr>\n",
       "      <th>2</th>\n",
       "      <td>CCc1ccccc1-c1cc(F)ccc1C=O</td>\n",
       "      <td>C=CC(=O)NC(C)C</td>\n",
       "      <td>CC(C)(C)OC(=O)C[C@H](N)C(=O)O</td>\n",
       "      <td>CC#N.CC(=O)O</td>\n",
       "      <td>CC(=O)O[K]</td>\n",
       "      <td>1</td>\n",
       "      <td>60</td>\n",
       "      <td>0.604465</td>\n",
       "      <td>0.311707</td>\n",
       "    </tr>\n",
       "    <tr>\n",
       "      <th>3</th>\n",
       "      <td>CCc1ccccc1-c1cc(F)ccc1C=O</td>\n",
       "      <td>C=CC(=O)NC(C)C</td>\n",
       "      <td>CC(C)(C)OC(=O)C[C@H](N)C(=O)O</td>\n",
       "      <td>CC#N.CC(=O)O</td>\n",
       "      <td>CC(=O)O[K]</td>\n",
       "      <td>1.5</td>\n",
       "      <td>60</td>\n",
       "      <td>0.572076</td>\n",
       "      <td>0.311707</td>\n",
       "    </tr>\n",
       "    <tr>\n",
       "      <th>4</th>\n",
       "      <td>CCc1ccccc1-c1cc(F)ccc1C=O</td>\n",
       "      <td>C=CC(=O)NC(C)C</td>\n",
       "      <td>CC(C)(C)OC(=O)C[C@H](N)C(=O)O</td>\n",
       "      <td>CC#N.CC(=O)O</td>\n",
       "      <td>CC(=O)O[Na]</td>\n",
       "      <td>1</td>\n",
       "      <td>60</td>\n",
       "      <td>0.390301</td>\n",
       "      <td>0.412877</td>\n",
       "    </tr>\n",
       "    <tr>\n",
       "      <th>...</th>\n",
       "      <td>...</td>\n",
       "      <td>...</td>\n",
       "      <td>...</td>\n",
       "      <td>...</td>\n",
       "      <td>...</td>\n",
       "      <td>...</td>\n",
       "      <td>...</td>\n",
       "      <td>...</td>\n",
       "      <td>...</td>\n",
       "    </tr>\n",
       "    <tr>\n",
       "      <th>889051</th>\n",
       "      <td>O=Cc1ccccc1-c1cccc2ccccc12</td>\n",
       "      <td>C=Cc1ccccc1</td>\n",
       "      <td>O=C(O)[C@@H]1CCCN1</td>\n",
       "      <td>CC(=O)O.OCC(F)(F)F</td>\n",
       "      <td>O=S(=O)(O[Na])C(F)(F)F</td>\n",
       "      <td>1.5</td>\n",
       "      <td>60</td>\n",
       "      <td>0.167165</td>\n",
       "      <td>0.412877</td>\n",
       "    </tr>\n",
       "    <tr>\n",
       "      <th>889052</th>\n",
       "      <td>O=Cc1ccccc1-c1cccc2ccccc12</td>\n",
       "      <td>C=Cc1ccccc1</td>\n",
       "      <td>O=C(O)[C@@H]1CCCN1</td>\n",
       "      <td>CC(=O)O.OCC(F)(F)F</td>\n",
       "      <td>[Li]OC(C)=O</td>\n",
       "      <td>1</td>\n",
       "      <td>60</td>\n",
       "      <td>0.119442</td>\n",
       "      <td>0.412877</td>\n",
       "    </tr>\n",
       "    <tr>\n",
       "      <th>889053</th>\n",
       "      <td>O=Cc1ccccc1-c1cccc2ccccc12</td>\n",
       "      <td>C=Cc1ccccc1</td>\n",
       "      <td>O=C(O)[C@@H]1CCCN1</td>\n",
       "      <td>CC(=O)O.OCC(F)(F)F</td>\n",
       "      <td>[Li]OC(C)=O</td>\n",
       "      <td>1.5</td>\n",
       "      <td>60</td>\n",
       "      <td>0.094317</td>\n",
       "      <td>0.412877</td>\n",
       "    </tr>\n",
       "    <tr>\n",
       "      <th>889054</th>\n",
       "      <td>O=Cc1ccccc1-c1cccc2ccccc12</td>\n",
       "      <td>C=Cc1ccccc1</td>\n",
       "      <td>O=C(O)[C@@H]1CCCN1</td>\n",
       "      <td>CC(=O)O.OCC(F)(F)F</td>\n",
       "      <td>[Li]O[Cl+3]([O-])([O-])[O-]</td>\n",
       "      <td>1</td>\n",
       "      <td>60</td>\n",
       "      <td>0.201577</td>\n",
       "      <td>0.412877</td>\n",
       "    </tr>\n",
       "    <tr>\n",
       "      <th>889055</th>\n",
       "      <td>O=Cc1ccccc1-c1cccc2ccccc12</td>\n",
       "      <td>C=Cc1ccccc1</td>\n",
       "      <td>O=C(O)[C@@H]1CCCN1</td>\n",
       "      <td>CC(=O)O.OCC(F)(F)F</td>\n",
       "      <td>[Li]O[Cl+3]([O-])([O-])[O-]</td>\n",
       "      <td>1.5</td>\n",
       "      <td>60</td>\n",
       "      <td>0.167165</td>\n",
       "      <td>0.412877</td>\n",
       "    </tr>\n",
       "  </tbody>\n",
       "</table>\n",
       "<p>889056 rows × 9 columns</p>\n",
       "</div>"
      ],
      "text/plain": [
       "                            Biaryl          Olefin  \\\n",
       "0        CCc1ccccc1-c1cc(F)ccc1C=O  C=CC(=O)NC(C)C   \n",
       "1        CCc1ccccc1-c1cc(F)ccc1C=O  C=CC(=O)NC(C)C   \n",
       "2        CCc1ccccc1-c1cc(F)ccc1C=O  C=CC(=O)NC(C)C   \n",
       "3        CCc1ccccc1-c1cc(F)ccc1C=O  C=CC(=O)NC(C)C   \n",
       "4        CCc1ccccc1-c1cc(F)ccc1C=O  C=CC(=O)NC(C)C   \n",
       "...                            ...             ...   \n",
       "889051  O=Cc1ccccc1-c1cccc2ccccc12     C=Cc1ccccc1   \n",
       "889052  O=Cc1ccccc1-c1cccc2ccccc12     C=Cc1ccccc1   \n",
       "889053  O=Cc1ccccc1-c1cccc2ccccc12     C=Cc1ccccc1   \n",
       "889054  O=Cc1ccccc1-c1cccc2ccccc12     C=Cc1ccccc1   \n",
       "889055  O=Cc1ccccc1-c1cccc2ccccc12     C=Cc1ccccc1   \n",
       "\n",
       "                                  TDG             Solvent  \\\n",
       "0       CC(C)(C)OC(=O)C[C@H](N)C(=O)O        CC#N.CC(=O)O   \n",
       "1       CC(C)(C)OC(=O)C[C@H](N)C(=O)O        CC#N.CC(=O)O   \n",
       "2       CC(C)(C)OC(=O)C[C@H](N)C(=O)O        CC#N.CC(=O)O   \n",
       "3       CC(C)(C)OC(=O)C[C@H](N)C(=O)O        CC#N.CC(=O)O   \n",
       "4       CC(C)(C)OC(=O)C[C@H](N)C(=O)O        CC#N.CC(=O)O   \n",
       "...                               ...                 ...   \n",
       "889051             O=C(O)[C@@H]1CCCN1  CC(=O)O.OCC(F)(F)F   \n",
       "889052             O=C(O)[C@@H]1CCCN1  CC(=O)O.OCC(F)(F)F   \n",
       "889053             O=C(O)[C@@H]1CCCN1  CC(=O)O.OCC(F)(F)F   \n",
       "889054             O=C(O)[C@@H]1CCCN1  CC(=O)O.OCC(F)(F)F   \n",
       "889055             O=C(O)[C@@H]1CCCN1  CC(=O)O.OCC(F)(F)F   \n",
       "\n",
       "                           Additive Current Temperature  Pred ddG  Pred Error  \n",
       "0                                         1          60  0.390301    0.412877  \n",
       "1                                       1.5          60  0.357913    0.412877  \n",
       "2                        CC(=O)O[K]       1          60  0.604465    0.311707  \n",
       "3                        CC(=O)O[K]     1.5          60  0.572076    0.311707  \n",
       "4                       CC(=O)O[Na]       1          60  0.390301    0.412877  \n",
       "...                             ...     ...         ...       ...         ...  \n",
       "889051       O=S(=O)(O[Na])C(F)(F)F     1.5          60  0.167165    0.412877  \n",
       "889052                  [Li]OC(C)=O       1          60  0.119442    0.412877  \n",
       "889053                  [Li]OC(C)=O     1.5          60  0.094317    0.412877  \n",
       "889054  [Li]O[Cl+3]([O-])([O-])[O-]       1          60  0.201577    0.412877  \n",
       "889055  [Li]O[Cl+3]([O-])([O-])[O-]     1.5          60  0.167165    0.412877  \n",
       "\n",
       "[889056 rows x 9 columns]"
      ]
     },
     "execution_count": 12,
     "metadata": {},
     "output_type": "execute_result"
    }
   ],
   "source": [
    "synthetic_space"
   ]
  },
  {
   "cell_type": "markdown",
   "id": "fatty-tuning",
   "metadata": {
    "ExecuteTime": {
     "end_time": "2022-03-25T07:40:33.548893Z",
     "start_time": "2022-03-25T07:40:33.275038Z"
    }
   },
   "source": [
    "# Visualization"
   ]
  },
  {
   "cell_type": "markdown",
   "id": "level-mailing",
   "metadata": {},
   "source": [
    "Select representative TDGs to check the ee distribution"
   ]
  },
  {
   "cell_type": "code",
   "execution_count": 13,
   "id": "completed-watts",
   "metadata": {
    "ExecuteTime": {
     "end_time": "2022-04-07T05:54:05.757091Z",
     "start_time": "2022-04-07T05:52:45.315375Z"
    },
    "scrolled": true
   },
   "outputs": [],
   "source": [
    "_,_,_,ave_count_map = genCountMap(tdg_smi_set,synthetic_space,point_pred_map,point_error_map,species='TDG')"
   ]
  },
  {
   "cell_type": "code",
   "execution_count": 17,
   "id": "technological-municipality",
   "metadata": {
    "ExecuteTime": {
     "end_time": "2022-04-07T05:58:51.324970Z",
     "start_time": "2022-04-07T05:58:51.207655Z"
    }
   },
   "outputs": [
    {
     "data": {
      "image/png": "[encoded data removed]",
      "text/plain": [
       "<Figure size 1008x360 with 1 Axes>"
      ]
     },
     "metadata": {
      "needs_background": "light"
     },
     "output_type": "display_data"
    }
   ],
   "source": [
    "sel_smi_color_map = { 'O=C(O)[C@@H]1CCCN1':'#FFB6C1',   # LightPink\n",
    "                      'CC(O)[C@H](N)C(=O)O':'#9400D3',   # DarkVoilet\n",
    "                      'CC(C)(C)[C@H](NC(=O)C[NH3+])C(=O)O.[Cl-]':'#D2691E', # Chocolate\n",
    "                      'N[C@@H](CCC(=O)O)C(=O)O':'#808000',  # Olive\n",
    "                      'N[C@@H](Cc1ccccc1)C(=O)O':'#00FF00',  ## Lime\n",
    "                      'CC[C@H](C)[C@H](N)C(=O)O':'#3CB371',  ## SpringGreen\n",
    "                      'CC(C)(C)[C@H](N)C(=O)N[C@H](C(=O)O)C(C)(C)C':'#1E90FF',  ##DoderBlue\n",
    "                      'CC(C)(C)[C@H](N)C(=O)O':'#0000CD', ## MediumBlue\n",
    "                     }\n",
    "vis_distribution(ave_count_map,sel_smi_color_map)"
   ]
  },
  {
   "cell_type": "markdown",
   "id": "lesbian-roulette",
   "metadata": {},
   "source": [
    "# Validation with Experiment Results"
   ]
  },
  {
   "cell_type": "markdown",
   "id": "innovative-surface",
   "metadata": {},
   "source": [
    "Ten experiments in the potential synthetic space were randomly selected for validation. In addition, we also wanted these 10 trials with more widely distributed $\\Delta$$\\Delta$$G$"
   ]
  },
  {
   "cell_type": "code",
   "execution_count": 33,
   "id": "suited-south",
   "metadata": {
    "ExecuteTime": {
     "end_time": "2022-04-07T06:26:08.954548Z",
     "start_time": "2022-04-07T06:22:11.138440Z"
    },
    "scrolled": true
   },
   "outputs": [
    {
     "name": "stderr",
     "output_type": "stream",
     "text": [
      "/home/hx-gpu1/anaconda3/lib/python3.8/site-packages/pandas/core/series.py:1056: SettingWithCopyWarning: \n",
      "A value is trying to be set on a copy of a slice from a DataFrame\n",
      "\n",
      "See the caveats in the documentation: https://pandas.pydata.org/pandas-docs/stable/user_guide/indexing.html#returning-a-view-versus-a-copy\n",
      "  cacher_needs_updating = self._check_is_chained_assignment_possible()\n"
     ]
    }
   ],
   "source": [
    "val_results = pd.read_csv('../space_set.csv',index_col=0)\n",
    "val_ddG,val_ee = val_results['ddG'].to_numpy(),val_results['ee'].to_numpy()\n",
    "val_pred_ddG = []\n",
    "val_error_ddG = []\n",
    "i_j_pair = {}\n",
    "for i in range(len(val_results)):\n",
    "    exp_item = val_results.iloc[i]\n",
    "    if not isinstance(exp_item['Additive'],str):\n",
    "        exp_item['Additive'] = ''\n",
    "    for j in range(len(synthetic_space)):\n",
    "        pred_item = synthetic_space.iloc[j]\n",
    "        if pred_item['Biaryl'] == exp_item['Biaryl'] and pred_item['Olefin'] == exp_item['Olefin'] and\\\n",
    "           pred_item['TDG'] == exp_item['TDG'] and pred_item['Solvent'] == exp_item['Solvent'] and\\\n",
    "           pred_item['Additive'] == exp_item['Additive'] and eval(pred_item['Current']) == exp_item['Current'] and\\\n",
    "           eval(pred_item['Temperature']) == exp_item['Temperature']:\n",
    "            val_pred_ddG.append(point_pred_map[j])\n",
    "            val_error_ddG.append(point_error_map[j])\n",
    "            i_j_pair[i] = j\n",
    "            break\n",
    "val_pred_ddG = np.array(val_pred_ddG)\n",
    "val_error_ddG = np.array(val_error_ddG)"
   ]
  },
  {
   "cell_type": "code",
   "execution_count": 34,
   "id": "velvet-broadcasting",
   "metadata": {
    "ExecuteTime": {
     "end_time": "2022-04-07T06:27:06.961660Z",
     "start_time": "2022-04-07T06:27:06.773302Z"
    }
   },
   "outputs": [
    {
     "data": {
      "image/png": "[encoded data removed]",
      "text/plain": [
       "<Figure size 360x360 with 1 Axes>"
      ]
     },
     "metadata": {
      "needs_background": "light"
     },
     "output_type": "display_data"
    }
   ],
   "source": [
    "plt.figure(figsize=(5,5))\n",
    "\n",
    "plt.scatter(val_ddG,val_pred_ddG,c='deepskyblue')\n",
    "\n",
    "plt.text(0,3.8,'$R^2$: %.3f'%r2_score(val_ddG,val_pred_ddG),fontsize=15)\n",
    "plt.text(0,3.55,'Pearson R: %.3f'%pearsonr(val_ddG,val_pred_ddG)[0],fontsize=15)\n",
    "plt.text(0,3.25,'MAE: %.3f kcal/mol'%mean_absolute_error(val_ddG,val_pred_ddG),fontsize=15)\n",
    "\n",
    "plt.plot([0,4],[0,4],c='royalblue')\n",
    "plt.xticks([0,1,2,3,4],['0.0','1.0','2.0','3.0','4.0'],fontsize=14)\n",
    "plt.yticks([0,1,2,3,4],['0.0','1.0','2.0','3.0','4.0'],fontsize=14)\n",
    "plt.xlabel('$\\Delta$$\\Delta$$G_E$$_x$$_p$',fontsize=15)\n",
    "plt.ylabel('$\\Delta$$\\Delta$$G_M$$_L$',fontsize=15)\n",
    "plt.tick_params(bottom='on',left='on')\n",
    "plt.tight_layout()"
   ]
  },
  {
   "cell_type": "markdown",
   "id": "mounted-equation",
   "metadata": {},
   "source": [
    "# t-SNE for Space Sampling"
   ]
  },
  {
   "cell_type": "markdown",
   "id": "solar-session",
   "metadata": {},
   "source": [
    "Select representative data "
   ]
  },
  {
   "cell_type": "code",
   "execution_count": 45,
   "id": "classified-oxford",
   "metadata": {
    "ExecuteTime": {
     "end_time": "2022-04-07T06:41:06.143422Z",
     "start_time": "2022-04-07T06:41:06.072575Z"
    }
   },
   "outputs": [],
   "source": [
    "base_index = get_base_index(train_x_sel_pca,threshold=base_th,rand_seed=random_seed) \n",
    "rest_index = list(set(range(len(train_x))) - set(base_index))\n",
    "rest_x = train_x[rest_index]\n",
    "rest_y = ddG[rest_index]\n",
    "val_space_x = space_x[[i_j_pair[i] for i in i_j_pair]]   # 10 experiments for validation\n",
    "np.random.seed(random_seed)"
   ]
  },
  {
   "cell_type": "markdown",
   "id": "charitable-point",
   "metadata": {},
   "source": [
    "Select regional data and perform visualization by using t-SNE method"
   ]
  },
  {
   "cell_type": "code",
   "execution_count": 47,
   "id": "ancient-toilet",
   "metadata": {
    "ExecuteTime": {
     "end_time": "2022-04-07T06:48:28.284233Z",
     "start_time": "2022-04-07T06:48:27.704090Z"
    }
   },
   "outputs": [
    {
     "data": {
      "image/png": "[encoded data removed]",
      "text/plain": [
       "<Figure size 1008x576 with 1 Axes>"
      ]
     },
     "metadata": {
      "needs_background": "light"
     },
     "output_type": "display_data"
    }
   ],
   "source": [
    "tsne_trans_x = np.concatenate([train_x,val_space_x])\n",
    "tsne = TSNE(n_components=2)\n",
    "tsne_trans_x_tsne = tsne.fit_transform(tsne_trans_x)\n",
    "train_x_tsne = tsne_trans_x_tsne[:len(train_x)]\n",
    "base_x_tsne = train_x_tsne[base_index]\n",
    "rest_x_tsne = train_x_tsne[rest_index]\n",
    "\n",
    "i = 0\n",
    "j = i_j_pair[i]\n",
    "point_x = space_x[j].reshape(1,-1)\n",
    "point_x_sel_pca = pca_sel.transform(point_x)\n",
    "rest_x_sel_pca = pca_sel.transform(rest_x)\n",
    "sel_idx = get_selected_index(point_x_sel_pca,rest_x_sel_pca,method='cosine',threshold=select_th)\n",
    "sel_x_tsne = rest_x_tsne[list(sel_idx)]\n",
    "\n",
    "plt.figure(figsize=(14,8))\n",
    "plt.scatter(train_x_tsne[:,0],train_x_tsne[:,1],c='lightgray',s=90)\n",
    "plt.scatter(base_x_tsne[:,0],base_x_tsne[:,1],c='tomato',alpha=0.5,s=20)\n",
    "plt.scatter(sel_x_tsne[:,0],sel_x_tsne[:,1],c='royalblue',alpha=0.5,s=20)\n",
    "plt.xticks(fontsize=18)\n",
    "plt.yticks(fontsize=18)\n",
    "plt.xlabel('t-SNE Axis 1',fontsize=21)\n",
    "plt.ylabel('t-SNE Axis 2',fontsize=21)\n",
    "plt.tick_params(bottom='on',left='on')\n",
    "plt.title(\"ee Distribution of Representative TDGs\",fontsize=21)\n",
    "plt.tight_layout()"
   ]
  }
 ],
 "metadata": {
  "kernelspec": {
   "display_name": "Python 3 (ipykernel)",
   "language": "python",
   "name": "python3"
  },
  "language_info": {
   "codemirror_mode": {
    "name": "ipython",
    "version": 3
   },
   "file_extension": ".py",
   "mimetype": "text/x-python",
   "name": "python",
   "nbconvert_exporter": "python",
   "pygments_lexer": "ipython3",
   "version": "3.8.5"
  },
  "toc": {
   "base_numbering": 1,
   "nav_menu": {},
   "number_sections": true,
   "sideBar": true,
   "skip_h1_title": false,
   "title_cell": "Table of Contents",
   "title_sidebar": "Contents",
   "toc_cell": false,
   "toc_position": {
    "height": "calc(100% - 180px)",
    "left": "10px",
    "top": "150px",
    "width": "236.753px"
   },
   "toc_section_display": true,
   "toc_window_display": true
  },
  "varInspector": {
   "cols": {
    "lenName": 16,
    "lenType": 16,
    "lenVar": 40
   },
   "kernels_config": {
    "python": {
     "delete_cmd_postfix": "",
     "delete_cmd_prefix": "del ",
     "library": "var_list.py",
     "varRefreshCmd": "print(var_dic_list())"
    },
    "r": {
     "delete_cmd_postfix": ") ",
     "delete_cmd_prefix": "rm(",
     "library": "var_list.r",
     "varRefreshCmd": "cat(var_dic_list()) "
    }
   },
   "types_to_exclude": [
    "module",
    "function",
    "builtin_function_or_method",
    "instance",
    "_Feature"
   ],
   "window_display": false
  }
 },
 "nbformat": 4,
 "nbformat_minor": 5
}
