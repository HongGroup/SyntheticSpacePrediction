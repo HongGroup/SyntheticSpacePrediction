{
 "cells": [
  {
   "cell_type": "markdown",
   "id": "compound-channel",
   "metadata": {},
   "source": [
    "# Load Dependency"
   ]
  },
  {
   "cell_type": "code",
   "execution_count": 1,
   "id": "exciting-rouge",
   "metadata": {
    "ExecuteTime": {
     "end_time": "2022-03-25T11:55:55.840433Z",
     "start_time": "2022-03-25T11:55:55.045387Z"
    }
   },
   "outputs": [
    {
     "name": "stderr",
     "output_type": "stream",
     "text": [
      "RDKit WARNING: [19:55:55] Enabling RDKit 2019.09.3 jupyter extensions\n",
      "[19:55:55] Enabling RDKit 2019.09.3 jupyter extensions\n"
     ]
    }
   ],
   "source": [
    "import pandas as pd\n",
    "import itertools,glob\n",
    "from script.utils import get_base_index,get_selected_index,ddG2ee,std_error,genCountMap,vis_distribution,\\\n",
    "DeltaLearningPrediction\n",
    "from sklearn.decomposition import PCA\n",
    "from sklearn.metrics import r2_score,mean_absolute_error\n",
    "from scipy.stats import pearsonr\n",
    "from sklearn.model_selection import KFold\n",
    "from sklearn.ensemble import ExtraTreesRegressor\n",
    "\n",
    "import matplotlib.pyplot as plt\n",
    "random_seed = 2022\n",
    "\n",
    "'''sel_index: Selected important index of descriptor using RFECV method. Details can be found in notebook 2'''\n",
    "sel_index = [ 0,  3,  4,  5,  6,  7,  9, 10, 11, 12, 14, 15, 16, 17, 18, 19, 21,\n",
    "              23, 24, 25, 26, 27, 30, 32, 33, 34, 36, 37, 38, 39, 40, 42, 45, 46,\n",
    "              52, 53, 59, 60, 61]"
   ]
  },
  {
   "cell_type": "markdown",
   "id": "molecular-supplier",
   "metadata": {},
   "source": [
    "# Define Synthetic Space"
   ]
  },
  {
   "cell_type": "code",
   "execution_count": 2,
   "id": "graduate-approach",
   "metadata": {
    "ExecuteTime": {
     "end_time": "2022-03-25T11:56:05.184551Z",
     "start_time": "2022-03-25T11:56:00.305264Z"
    }
   },
   "outputs": [
    {
     "name": "stdout",
     "output_type": "stream",
     "text": [
      "The size of synthetic space is: 889056\n"
     ]
    },
    {
     "data": {
      "text/html": [
       "<div>\n",
       "<style scoped>\n",
       "    .dataframe tbody tr th:only-of-type {\n",
       "        vertical-align: middle;\n",
       "    }\n",
       "\n",
       "    .dataframe tbody tr th {\n",
       "        vertical-align: top;\n",
       "    }\n",
       "\n",
       "    .dataframe thead th {\n",
       "        text-align: right;\n",
       "    }\n",
       "</style>\n",
       "<table border=\"1\" class=\"dataframe\">\n",
       "  <thead>\n",
       "    <tr style=\"text-align: right;\">\n",
       "      <th></th>\n",
       "      <th>Biaryl</th>\n",
       "      <th>Olefin</th>\n",
       "      <th>TDG</th>\n",
       "      <th>Solvent</th>\n",
       "      <th>Additive</th>\n",
       "      <th>Current</th>\n",
       "      <th>Temperature</th>\n",
       "    </tr>\n",
       "  </thead>\n",
       "  <tbody>\n",
       "    <tr>\n",
       "      <th>0</th>\n",
       "      <td>CCc1ccccc1-c1cc(F)ccc1C=O</td>\n",
       "      <td>C=CC(=O)NC(C)C</td>\n",
       "      <td>CC(C)(C)OC(=O)C[C@H](N)C(=O)O</td>\n",
       "      <td>CC#N.CC(=O)O</td>\n",
       "      <td></td>\n",
       "      <td>1</td>\n",
       "      <td>60</td>\n",
       "    </tr>\n",
       "    <tr>\n",
       "      <th>1</th>\n",
       "      <td>CCc1ccccc1-c1cc(F)ccc1C=O</td>\n",
       "      <td>C=CC(=O)NC(C)C</td>\n",
       "      <td>CC(C)(C)OC(=O)C[C@H](N)C(=O)O</td>\n",
       "      <td>CC#N.CC(=O)O</td>\n",
       "      <td></td>\n",
       "      <td>1.5</td>\n",
       "      <td>60</td>\n",
       "    </tr>\n",
       "    <tr>\n",
       "      <th>2</th>\n",
       "      <td>CCc1ccccc1-c1cc(F)ccc1C=O</td>\n",
       "      <td>C=CC(=O)NC(C)C</td>\n",
       "      <td>CC(C)(C)OC(=O)C[C@H](N)C(=O)O</td>\n",
       "      <td>CC#N.CC(=O)O</td>\n",
       "      <td>CC(=O)O[K]</td>\n",
       "      <td>1</td>\n",
       "      <td>60</td>\n",
       "    </tr>\n",
       "    <tr>\n",
       "      <th>3</th>\n",
       "      <td>CCc1ccccc1-c1cc(F)ccc1C=O</td>\n",
       "      <td>C=CC(=O)NC(C)C</td>\n",
       "      <td>CC(C)(C)OC(=O)C[C@H](N)C(=O)O</td>\n",
       "      <td>CC#N.CC(=O)O</td>\n",
       "      <td>CC(=O)O[K]</td>\n",
       "      <td>1.5</td>\n",
       "      <td>60</td>\n",
       "    </tr>\n",
       "    <tr>\n",
       "      <th>4</th>\n",
       "      <td>CCc1ccccc1-c1cc(F)ccc1C=O</td>\n",
       "      <td>C=CC(=O)NC(C)C</td>\n",
       "      <td>CC(C)(C)OC(=O)C[C@H](N)C(=O)O</td>\n",
       "      <td>CC#N.CC(=O)O</td>\n",
       "      <td>CC(=O)O[Na]</td>\n",
       "      <td>1</td>\n",
       "      <td>60</td>\n",
       "    </tr>\n",
       "    <tr>\n",
       "      <th>...</th>\n",
       "      <td>...</td>\n",
       "      <td>...</td>\n",
       "      <td>...</td>\n",
       "      <td>...</td>\n",
       "      <td>...</td>\n",
       "      <td>...</td>\n",
       "      <td>...</td>\n",
       "    </tr>\n",
       "    <tr>\n",
       "      <th>889051</th>\n",
       "      <td>O=Cc1ccccc1-c1cccc2ccccc12</td>\n",
       "      <td>C=Cc1ccccc1</td>\n",
       "      <td>O=C(O)[C@@H]1CCCN1</td>\n",
       "      <td>CC(=O)O.OCC(F)(F)F</td>\n",
       "      <td>O=S(=O)(O[Na])C(F)(F)F</td>\n",
       "      <td>1.5</td>\n",
       "      <td>60</td>\n",
       "    </tr>\n",
       "    <tr>\n",
       "      <th>889052</th>\n",
       "      <td>O=Cc1ccccc1-c1cccc2ccccc12</td>\n",
       "      <td>C=Cc1ccccc1</td>\n",
       "      <td>O=C(O)[C@@H]1CCCN1</td>\n",
       "      <td>CC(=O)O.OCC(F)(F)F</td>\n",
       "      <td>[Li]OC(C)=O</td>\n",
       "      <td>1</td>\n",
       "      <td>60</td>\n",
       "    </tr>\n",
       "    <tr>\n",
       "      <th>889053</th>\n",
       "      <td>O=Cc1ccccc1-c1cccc2ccccc12</td>\n",
       "      <td>C=Cc1ccccc1</td>\n",
       "      <td>O=C(O)[C@@H]1CCCN1</td>\n",
       "      <td>CC(=O)O.OCC(F)(F)F</td>\n",
       "      <td>[Li]OC(C)=O</td>\n",
       "      <td>1.5</td>\n",
       "      <td>60</td>\n",
       "    </tr>\n",
       "    <tr>\n",
       "      <th>889054</th>\n",
       "      <td>O=Cc1ccccc1-c1cccc2ccccc12</td>\n",
       "      <td>C=Cc1ccccc1</td>\n",
       "      <td>O=C(O)[C@@H]1CCCN1</td>\n",
       "      <td>CC(=O)O.OCC(F)(F)F</td>\n",
       "      <td>[Li]O[Cl+3]([O-])([O-])[O-]</td>\n",
       "      <td>1</td>\n",
       "      <td>60</td>\n",
       "    </tr>\n",
       "    <tr>\n",
       "      <th>889055</th>\n",
       "      <td>O=Cc1ccccc1-c1cccc2ccccc12</td>\n",
       "      <td>C=Cc1ccccc1</td>\n",
       "      <td>O=C(O)[C@@H]1CCCN1</td>\n",
       "      <td>CC(=O)O.OCC(F)(F)F</td>\n",
       "      <td>[Li]O[Cl+3]([O-])([O-])[O-]</td>\n",
       "      <td>1.5</td>\n",
       "      <td>60</td>\n",
       "    </tr>\n",
       "  </tbody>\n",
       "</table>\n",
       "<p>889056 rows × 7 columns</p>\n",
       "</div>"
      ],
      "text/plain": [
       "                            Biaryl          Olefin  \\\n",
       "0        CCc1ccccc1-c1cc(F)ccc1C=O  C=CC(=O)NC(C)C   \n",
       "1        CCc1ccccc1-c1cc(F)ccc1C=O  C=CC(=O)NC(C)C   \n",
       "2        CCc1ccccc1-c1cc(F)ccc1C=O  C=CC(=O)NC(C)C   \n",
       "3        CCc1ccccc1-c1cc(F)ccc1C=O  C=CC(=O)NC(C)C   \n",
       "4        CCc1ccccc1-c1cc(F)ccc1C=O  C=CC(=O)NC(C)C   \n",
       "...                            ...             ...   \n",
       "889051  O=Cc1ccccc1-c1cccc2ccccc12     C=Cc1ccccc1   \n",
       "889052  O=Cc1ccccc1-c1cccc2ccccc12     C=Cc1ccccc1   \n",
       "889053  O=Cc1ccccc1-c1cccc2ccccc12     C=Cc1ccccc1   \n",
       "889054  O=Cc1ccccc1-c1cccc2ccccc12     C=Cc1ccccc1   \n",
       "889055  O=Cc1ccccc1-c1cccc2ccccc12     C=Cc1ccccc1   \n",
       "\n",
       "                                  TDG             Solvent  \\\n",
       "0       CC(C)(C)OC(=O)C[C@H](N)C(=O)O        CC#N.CC(=O)O   \n",
       "1       CC(C)(C)OC(=O)C[C@H](N)C(=O)O        CC#N.CC(=O)O   \n",
       "2       CC(C)(C)OC(=O)C[C@H](N)C(=O)O        CC#N.CC(=O)O   \n",
       "3       CC(C)(C)OC(=O)C[C@H](N)C(=O)O        CC#N.CC(=O)O   \n",
       "4       CC(C)(C)OC(=O)C[C@H](N)C(=O)O        CC#N.CC(=O)O   \n",
       "...                               ...                 ...   \n",
       "889051             O=C(O)[C@@H]1CCCN1  CC(=O)O.OCC(F)(F)F   \n",
       "889052             O=C(O)[C@@H]1CCCN1  CC(=O)O.OCC(F)(F)F   \n",
       "889053             O=C(O)[C@@H]1CCCN1  CC(=O)O.OCC(F)(F)F   \n",
       "889054             O=C(O)[C@@H]1CCCN1  CC(=O)O.OCC(F)(F)F   \n",
       "889055             O=C(O)[C@@H]1CCCN1  CC(=O)O.OCC(F)(F)F   \n",
       "\n",
       "                           Additive Current Temperature  \n",
       "0                                         1          60  \n",
       "1                                       1.5          60  \n",
       "2                        CC(=O)O[K]       1          60  \n",
       "3                        CC(=O)O[K]     1.5          60  \n",
       "4                       CC(=O)O[Na]       1          60  \n",
       "...                             ...     ...         ...  \n",
       "889051       O=S(=O)(O[Na])C(F)(F)F     1.5          60  \n",
       "889052                  [Li]OC(C)=O       1          60  \n",
       "889053                  [Li]OC(C)=O     1.5          60  \n",
       "889054  [Li]O[Cl+3]([O-])([O-])[O-]       1          60  \n",
       "889055  [Li]O[Cl+3]([O-])([O-])[O-]     1.5          60  \n",
       "\n",
       "[889056 rows x 7 columns]"
      ]
     },
     "execution_count": 2,
     "metadata": {},
     "output_type": "execute_result"
    }
   ],
   "source": [
    "dataset = pd.read_csv('../dataset.csv',index_col=0)\n",
    "biaryl_smiles = dataset['Biaryl'].to_list()\n",
    "olefin_smiles = dataset['Olefin'].to_list()\n",
    "tdg_smiles = dataset['TDG'].to_list()\n",
    "solvent_smiles = dataset['Solvent'].to_list()\n",
    "additive_smiles = dataset['Additive'].to_list()\n",
    "current = dataset['Current(mA)'].to_list()\n",
    "temperature = dataset['Temperature'].to_list()\n",
    "additive_smiles = [item if isinstance(item,str) else '' for item in additive_smiles]\n",
    "\n",
    "biaryl_smi_set = sorted(list(set(biaryl_smiles)))\n",
    "olefin_smi_set = sorted(list(set(olefin_smiles)))\n",
    "tdg_smi_set = sorted(list(set(tdg_smiles)))\n",
    "sol_smi_set = sorted(list(set(solvent_smiles)))\n",
    "add_smi_set = sorted(list(set(additive_smiles)))\n",
    "current_set = [1,1.5]\n",
    "temp_set = [60]\n",
    "\n",
    "synthetic_space = []\n",
    "for item in itertools.product(biaryl_smi_set,olefin_smi_set,\n",
    "    tdg_smi_set,sol_smi_set,add_smi_set,current_set,temp_set):\n",
    "    synthetic_space.append(item)\n",
    "synthetic_space_array = np.array(synthetic_space)\n",
    "synthetic_space = pd.DataFrame.from_records(synthetic_space_array)\n",
    "synthetic_space.columns = ['Biaryl','Olefin','TDG','Solvent','Additive','Current','Temperature']\n",
    "\n",
    "print(\"The size of synthetic space is: %d\"%len(synthetic_space))\n",
    "synthetic_space"
   ]
  },
  {
   "cell_type": "markdown",
   "id": "changing-lounge",
   "metadata": {},
   "source": [
    "# Load Descriptors"
   ]
  },
  {
   "cell_type": "code",
   "execution_count": 3,
   "id": "cardiovascular-direction",
   "metadata": {
    "ExecuteTime": {
     "end_time": "2022-03-25T11:56:08.399490Z",
     "start_time": "2022-03-25T11:56:08.394749Z"
    }
   },
   "outputs": [],
   "source": [
    "dataset_physorg_desc = np.load('../descriptors/dataset_physorg_desc.npz')\n",
    "train_x = dataset_physorg_desc['descriptors'][:,sel_index]\n",
    "ddG = dataset_physorg_desc['target']"
   ]
  },
  {
   "cell_type": "code",
   "execution_count": 4,
   "id": "bound-overall",
   "metadata": {
    "ExecuteTime": {
     "end_time": "2022-03-25T11:56:11.634418Z",
     "start_time": "2022-03-25T11:56:10.954860Z"
    }
   },
   "outputs": [
    {
     "name": "stdout",
     "output_type": "stream",
     "text": [
      "Shape of space descriptors: (889056, 39)\n"
     ]
    }
   ],
   "source": [
    "space_physorg_desc = []\n",
    "physorg_desc_files = sorted(glob.glob('../descriptors/space/*.npz'),key=lambda x:eval(x.split('.')[-2].split('-')[-1]))\n",
    "for file in physorg_desc_files:\n",
    "    zload = np.load(file)\n",
    "    desc = zload['descriptors']\n",
    "    desc_name = zload['descriptor_names']\n",
    "    space_physorg_desc.append(desc)\n",
    "space_x = np.concatenate(space_physorg_desc,axis=0)[:,sel_index]\n",
    "print('Shape of space descriptors:',space_x.shape)"
   ]
  },
  {
   "cell_type": "markdown",
   "id": "superb-bulletin",
   "metadata": {},
   "source": [
    "# Perform Prediction over Synthetic Space"
   ]
  },
  {
   "cell_type": "markdown",
   "id": "authentic-image",
   "metadata": {},
   "source": [
    "## Select Points for Training Base Model"
   ]
  },
  {
   "cell_type": "code",
   "execution_count": 5,
   "id": "rental-yacht",
   "metadata": {
    "ExecuteTime": {
     "end_time": "2022-03-25T11:56:13.950371Z",
     "start_time": "2022-03-25T11:56:13.822204Z"
    }
   },
   "outputs": [],
   "source": [
    "for i in range(train_x.shape[1]):\n",
    "    pca_sel = PCA(n_components=i,random_state=random_seed)\n",
    "    train_x_sel_pca = pca_sel.fit_transform(train_x)\n",
    "    if pca_sel.explained_variance_ratio_.sum() > 0.9:\n",
    "        break\n",
    "base_th = 8\n",
    "base_index = get_base_index(train_x_sel_pca,threshold=base_th,rand_seed=random_seed)\n",
    "rest_index = list(set(range(len(train_x))) - set(base_index))\n",
    "base_x = train_x[base_index]\n",
    "rest_x = train_x[rest_index]\n",
    "base_y = ddG[base_index]\n",
    "rest_y = ddG[rest_index]"
   ]
  },
  {
   "cell_type": "markdown",
   "id": "alone-dryer",
   "metadata": {},
   "source": [
    "## Group Points in the Synthetic Space"
   ]
  },
  {
   "cell_type": "markdown",
   "id": "accepting-rubber",
   "metadata": {},
   "source": [
    "There are two groups of data points in the synthetic space. One group is data with existed regional data for training delta model. The other has no regional data."
   ]
  },
  {
   "cell_type": "code",
   "execution_count": 6,
   "id": "entitled-disclaimer",
   "metadata": {
    "ExecuteTime": {
     "end_time": "2022-03-25T12:11:28.811509Z",
     "start_time": "2022-03-25T11:56:21.563999Z"
    }
   },
   "outputs": [],
   "source": [
    "select_th = 60\n",
    "\n",
    "base_model_only_point_idx = []\n",
    "\n",
    "idx2selidx_map = {}   \n",
    "for idx in range(len(space_x)):\n",
    "    point_x = space_x[idx].reshape(1,-1)\n",
    "    point_x_sel_pca = pca_sel.transform(point_x)\n",
    "    rest_x_sel_pca = pca_sel.transform(rest_x)\n",
    "    sel_idx = get_selected_index(point_x_sel_pca,rest_x_sel_pca,\n",
    "              method='cosine',threshold=select_th) \n",
    "    idx2selidx_map[idx] = sel_idx\n",
    "    if len(sel_idx) == 0:\n",
    "        base_model_only_point_idx.append(idx)\n",
    "delta_model_point_idx = list(set(range(len(space_x)))-set(base_model_only_point_idx))\n",
    "\n",
    "selidx2idxs_map = {}           \n",
    "for idx in delta_model_point_idx:\n",
    "    selidx = tuple(idx2selidx_map[idx])\n",
    "    if not selidx in selidx2idxs_map:\n",
    "        selidx2idxs_map[selidx] = [idx]\n",
    "    else:\n",
    "        selidx2idxs_map[selidx].append(idx)  "
   ]
  },
  {
   "cell_type": "markdown",
   "id": "according-particle",
   "metadata": {},
   "source": [
    "## Train $\\Delta$-Learning Model and Perform Prediction"
   ]
  },
  {
   "cell_type": "code",
   "execution_count": 7,
   "id": "several-archive",
   "metadata": {
    "ExecuteTime": {
     "end_time": "2022-03-25T12:19:51.823800Z",
     "start_time": "2022-03-25T12:17:11.836924Z"
    },
    "scrolled": true
   },
   "outputs": [],
   "source": [
    "k_fold_num = 5\n",
    "\n",
    "\n",
    "base_model = ExtraTreesRegressor(n_jobs=-1,random_state=random_seed)\n",
    "specific_model = ExtraTreesRegressor(n_jobs=-1,random_state=random_seed)\n",
    "point_pred_map,point_error_map = DeltaLearningPrediction(base_x,rest_x,space_x,base_y,rest_y,\n",
    "                                 base_model,specific_model,base_model_only_point_idx,\n",
    "                                 selidx2idxs_map,k_fold_num)"
   ]
  },
  {
   "cell_type": "markdown",
   "id": "recorded-pastor",
   "metadata": {},
   "source": [
    "Save the prediction results"
   ]
  },
  {
   "cell_type": "code",
   "execution_count": 9,
   "id": "closed-interface",
   "metadata": {
    "ExecuteTime": {
     "end_time": "2022-03-25T12:23:30.108087Z",
     "start_time": "2022-03-25T12:23:25.700452Z"
    }
   },
   "outputs": [],
   "source": [
    "synthetic_space['Pred ddG'] = [point_pred_map[i] for i in point_pred_map]\n",
    "synthetic_space['Pred Error'] = [point_error_map[i] for i in point_error_map]\n",
    "synthetic_space.to_csv('../whole_synthetic_space_predictions.csv')"
   ]
  },
  {
   "cell_type": "markdown",
   "id": "reverse-david",
   "metadata": {
    "ExecuteTime": {
     "end_time": "2022-03-25T07:40:33.548893Z",
     "start_time": "2022-03-25T07:40:33.275038Z"
    }
   },
   "source": [
    "# Visualization"
   ]
  },
  {
   "cell_type": "markdown",
   "id": "disabled-utility",
   "metadata": {},
   "source": [
    "Select a representative TDG to check the ee distribution"
   ]
  },
  {
   "cell_type": "code",
   "execution_count": 52,
   "id": "caring-disorder",
   "metadata": {
    "ExecuteTime": {
     "end_time": "2022-03-25T08:26:04.152292Z",
     "start_time": "2022-03-25T08:25:09.177282Z"
    }
   },
   "outputs": [],
   "source": [
    "_,_,_,ave_count_map = genCountMap(tdg_smi_set,synthetic_space,point_pred_map,point_error_map,species='TDG')"
   ]
  },
  {
   "cell_type": "code",
   "execution_count": 64,
   "id": "governing-certificate",
   "metadata": {
    "ExecuteTime": {
     "end_time": "2022-03-25T08:34:06.134551Z",
     "start_time": "2022-03-25T08:34:06.046678Z"
    }
   },
   "outputs": [
    {
     "data": {
      "image/png": "[encoded data removed]",
      "text/plain": [
       "<Figure size 1008x360 with 1 Axes>"
      ]
     },
     "metadata": {
      "needs_background": "light"
     },
     "output_type": "display_data"
    }
   ],
   "source": [
    "color = 'royalblue'\n",
    "smiles = 'CC(C)(C)[C@H](N)C(=O)O'\n",
    "vis_distribution(ave_count_map,smiles,color=color)"
   ]
  },
  {
   "cell_type": "markdown",
   "id": "previous-victor",
   "metadata": {},
   "source": [
    "# Validation with Experiment Results"
   ]
  },
  {
   "cell_type": "markdown",
   "id": "joined-temple",
   "metadata": {},
   "source": [
    "Ten experiments in the potential synthetic space were randomly selected for validation. In addition, we also wanted these 10 trials with more widely distributed $\\Delta$$\\Delta$$G$"
   ]
  },
  {
   "cell_type": "code",
   "execution_count": 118,
   "id": "internal-parliament",
   "metadata": {
    "ExecuteTime": {
     "end_time": "2022-03-25T11:15:35.498361Z",
     "start_time": "2022-03-25T11:13:10.677830Z"
    },
    "scrolled": true
   },
   "outputs": [
    {
     "name": "stderr",
     "output_type": "stream",
     "text": [
      "/home/hx-gpu1/anaconda3/lib/python3.8/site-packages/pandas/core/series.py:1056: SettingWithCopyWarning: \n",
      "A value is trying to be set on a copy of a slice from a DataFrame\n",
      "\n",
      "See the caveats in the documentation: https://pandas.pydata.org/pandas-docs/stable/user_guide/indexing.html#returning-a-view-versus-a-copy\n",
      "  cacher_needs_updating = self._check_is_chained_assignment_possible()\n"
     ]
    }
   ],
   "source": [
    "val_results = pd.read_csv('../space_set.csv',index_col=0)\n",
    "val_ddG,val_ee = val_results['ddG'].to_numpy(),val_results['ee'].to_numpy()\n",
    "val_pred_ddG = []\n",
    "val_error_ddG = []\n",
    "for i in range(len(val_results)):\n",
    "    exp_item = val_results.iloc[i]\n",
    "    if not isinstance(exp_item['Additive'],str):\n",
    "        exp_item['Additive'] = ''\n",
    "    for j in range(len(synthetic_space)):\n",
    "        pred_item = synthetic_space.iloc[j]\n",
    "        if pred_item['Biaryl'] == exp_item['Biaryl'] and pred_item['Olefin'] == exp_item['Olefin'] and\\\n",
    "           pred_item['TDG'] == exp_item['TDG'] and pred_item['Solvent'] == exp_item['Solvent'] and\\\n",
    "           pred_item['Additive'] == exp_item['Additive'] and eval(pred_item['Current']) == exp_item['Current'] and\\\n",
    "           eval(pred_item['Temperature']) == exp_item['Temperature']:\n",
    "            val_pred_ddG.append(point_pred_map[j])\n",
    "            val_error_ddG.append(point_error_map[j])\n",
    "            break\n",
    "val_pred_ddG = np.array(val_pred_ddG)\n",
    "val_error_ddG = np.array(val_error_ddG)"
   ]
  },
  {
   "cell_type": "code",
   "execution_count": 125,
   "id": "diagnostic-turkish",
   "metadata": {
    "ExecuteTime": {
     "end_time": "2022-03-25T11:23:02.708332Z",
     "start_time": "2022-03-25T11:23:02.522065Z"
    }
   },
   "outputs": [
    {
     "data": {
      "image/png": "[encoded data removed]",
      "text/plain": [
       "<Figure size 360x360 with 1 Axes>"
      ]
     },
     "metadata": {
      "needs_background": "light"
     },
     "output_type": "display_data"
    }
   ],
   "source": [
    "plt.figure(figsize=(5,5))\n",
    "\n",
    "plt.scatter(val_ddG,val_pred_ddG,c='deepskyblue')\n",
    "\n",
    "plt.text(0,3.8,'$R^2$: %.3f'%r2_score(val_ddG,val_pred_ddG),fontsize=15)\n",
    "plt.text(0,3.55,'Pearson R: %.3f'%pearsonr(val_ddG,val_pred_ddG)[0],fontsize=15)\n",
    "plt.text(0,3.25,'MAE: %.3f kcal/mol'%mean_absolute_error(val_ddG,val_pred_ddG),fontsize=15)\n",
    "\n",
    "plt.plot([0,4],[0,4],c='royalblue')\n",
    "plt.xticks([0,1,2,3,4],['0.0','1.0','2.0','3.0','4.0'],fontsize=14)\n",
    "plt.yticks([0,1,2,3,4],['0.0','1.0','2.0','3.0','4.0'],fontsize=14)\n",
    "plt.xlabel('$\\Delta$$\\Delta$$G_E$$_x$$_p$',fontsize=15)\n",
    "plt.ylabel('$\\Delta$$\\Delta$$G_M$$_L$',fontsize=15)\n",
    "plt.tick_params(bottom='on',left='on')\n",
    "plt.tight_layout()"
   ]
  }
 ],
 "metadata": {
  "kernelspec": {
   "display_name": "Python 3 (ipykernel)",
   "language": "python",
   "name": "python3"
  },
  "language_info": {
   "codemirror_mode": {
    "name": "ipython",
    "version": 3
   },
   "file_extension": ".py",
   "mimetype": "text/x-python",
   "name": "python",
   "nbconvert_exporter": "python",
   "pygments_lexer": "ipython3",
   "version": "3.8.5"
  },
  "toc": {
   "base_numbering": 1,
   "nav_menu": {},
   "number_sections": true,
   "sideBar": true,
   "skip_h1_title": false,
   "title_cell": "Table of Contents",
   "title_sidebar": "Contents",
   "toc_cell": false,
   "toc_position": {
    "height": "calc(100% - 180px)",
    "left": "10px",
    "top": "150px",
    "width": "236.753px"
   },
   "toc_section_display": true,
   "toc_window_display": true
  },
  "varInspector": {
   "cols": {
    "lenName": 16,
    "lenType": 16,
    "lenVar": 40
   },
   "kernels_config": {
    "python": {
     "delete_cmd_postfix": "",
     "delete_cmd_prefix": "del ",
     "library": "var_list.py",
     "varRefreshCmd": "print(var_dic_list())"
    },
    "r": {
     "delete_cmd_postfix": ") ",
     "delete_cmd_prefix": "rm(",
     "library": "var_list.r",
     "varRefreshCmd": "cat(var_dic_list()) "
    }
   },
   "types_to_exclude": [
    "module",
    "function",
    "builtin_function_or_method",
    "instance",
    "_Feature"
   ],
   "window_display": false
  }
 },
 "nbformat": 4,
 "nbformat_minor": 5
}
