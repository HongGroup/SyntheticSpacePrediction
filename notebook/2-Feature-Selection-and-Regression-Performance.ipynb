{
 "cells": [
  {
   "cell_type": "markdown",
   "id": "junior-victor",
   "metadata": {},
   "source": [
    "# Load Dependency"
   ]
  },
  {
   "cell_type": "code",
   "execution_count": 1,
   "id": "macro-occasion",
   "metadata": {
    "ExecuteTime": {
     "end_time": "2022-04-07T11:18:34.766129Z",
     "start_time": "2022-04-07T11:18:33.912117Z"
    }
   },
   "outputs": [
    {
     "name": "stderr",
     "output_type": "stream",
     "text": [
      "RDKit WARNING: [19:18:34] Enabling RDKit 2019.09.3 jupyter extensions\n",
      "[19:18:34] Enabling RDKit 2019.09.3 jupyter extensions\n"
     ]
    }
   ],
   "source": [
    "import pandas as pd\n",
    "from sklearn.ensemble import ExtraTreesRegressor\n",
    "from sklearn.model_selection import KFold\n",
    "from sklearn.feature_selection import RFECV\n",
    "from sklearn.metrics import r2_score,mean_absolute_error\n",
    "from scipy.stats import pearsonr\n",
    "from script.DescriptorProcess import genDescDataset\n",
    "import matplotlib.pyplot as plt\n",
    "import numpy as np\n",
    "random_seed = 2022"
   ]
  },
  {
   "cell_type": "markdown",
   "id": "recognized-fleece",
   "metadata": {},
   "source": [
    "# Data Prepross"
   ]
  },
  {
   "cell_type": "code",
   "execution_count": 3,
   "id": "retained-circular",
   "metadata": {
    "ExecuteTime": {
     "end_time": "2022-03-24T13:47:36.365668Z",
     "start_time": "2022-03-24T13:47:36.359079Z"
    }
   },
   "outputs": [],
   "source": [
    "dataset_physorg_desc = np.load('../descriptors/dataset_physorg_desc.npz')\n",
    "physorg_desc = dataset_physorg_desc['descriptors']\n",
    "physorg_desc_names = dataset_physorg_desc['descriptor_names']\n",
    "ddG = dataset_physorg_desc['target']\n",
    "test_index = [21, 58, 61, 110, 112, 114, 116, 122, 124, 127]\n",
    "train_val_index = list(set(range(len(physorg_desc))) - set(test_index))\n",
    "\n",
    "train_val_x,train_val_y = physorg_desc[train_val_index],ddG[train_val_index]\n",
    "test_x,test_y = physorg_desc[test_index],ddG[test_index]"
   ]
  },
  {
   "cell_type": "code",
   "execution_count": 4,
   "id": "peripheral-louisville",
   "metadata": {
    "ExecuteTime": {
     "end_time": "2022-03-24T13:47:38.415540Z",
     "start_time": "2022-03-24T13:47:38.406175Z"
    }
   },
   "outputs": [],
   "source": [
    "desc_dataset = genDescDataset(physorg_desc,physorg_desc_names,ddG)"
   ]
  },
  {
   "cell_type": "code",
   "execution_count": 5,
   "id": "advanced-vertical",
   "metadata": {
    "ExecuteTime": {
     "end_time": "2022-03-24T13:47:39.146423Z",
     "start_time": "2022-03-24T13:47:39.124525Z"
    }
   },
   "outputs": [
    {
     "data": {
      "text/html": [
       "<div>\n",
       "<style scoped>\n",
       "    .dataframe tbody tr th:only-of-type {\n",
       "        vertical-align: middle;\n",
       "    }\n",
       "\n",
       "    .dataframe tbody tr th {\n",
       "        vertical-align: top;\n",
       "    }\n",
       "\n",
       "    .dataframe thead th {\n",
       "        text-align: right;\n",
       "    }\n",
       "</style>\n",
       "<table border=\"1\" class=\"dataframe\">\n",
       "  <thead>\n",
       "    <tr style=\"text-align: right;\">\n",
       "      <th></th>\n",
       "      <th>Biaryl_q(N)_C</th>\n",
       "      <th>Biaryl_q(N+1)_C</th>\n",
       "      <th>Biaryl_xTB Chrg_C</th>\n",
       "      <th>Biaryl_q(N)_H</th>\n",
       "      <th>Biaryl_q(N+1)_H</th>\n",
       "      <th>Biaryl_xTB Chrg_H</th>\n",
       "      <th>Olefin_q(N+1)_C1</th>\n",
       "      <th>Olefin_Nucleophilicity_C1</th>\n",
       "      <th>Olefin_s-_C1</th>\n",
       "      <th>Olefin_xTB Chrg_C1</th>\n",
       "      <th>...</th>\n",
       "      <th>Add_13</th>\n",
       "      <th>Sol_0</th>\n",
       "      <th>Sol_1</th>\n",
       "      <th>Sol_2</th>\n",
       "      <th>Sol_3</th>\n",
       "      <th>Sol_4</th>\n",
       "      <th>Sol_5</th>\n",
       "      <th>Current</th>\n",
       "      <th>Temperature</th>\n",
       "      <th>ddG(kcal/mol)</th>\n",
       "    </tr>\n",
       "  </thead>\n",
       "  <tbody>\n",
       "    <tr>\n",
       "      <th>0</th>\n",
       "      <td>0.425197</td>\n",
       "      <td>0.867391</td>\n",
       "      <td>0.405820</td>\n",
       "      <td>0.5625</td>\n",
       "      <td>0.865306</td>\n",
       "      <td>0.142322</td>\n",
       "      <td>0.537165</td>\n",
       "      <td>0.448536</td>\n",
       "      <td>0.112838</td>\n",
       "      <td>0.775094</td>\n",
       "      <td>...</td>\n",
       "      <td>0.0</td>\n",
       "      <td>0.0</td>\n",
       "      <td>1.0</td>\n",
       "      <td>0.0</td>\n",
       "      <td>0.0</td>\n",
       "      <td>0.0</td>\n",
       "      <td>0.0</td>\n",
       "      <td>0.375</td>\n",
       "      <td>0.333333</td>\n",
       "      <td>3.507522</td>\n",
       "    </tr>\n",
       "    <tr>\n",
       "      <th>1</th>\n",
       "      <td>0.425197</td>\n",
       "      <td>0.867391</td>\n",
       "      <td>0.405820</td>\n",
       "      <td>0.5625</td>\n",
       "      <td>0.865306</td>\n",
       "      <td>0.142322</td>\n",
       "      <td>0.537165</td>\n",
       "      <td>0.448536</td>\n",
       "      <td>0.112838</td>\n",
       "      <td>0.775094</td>\n",
       "      <td>...</td>\n",
       "      <td>0.0</td>\n",
       "      <td>0.0</td>\n",
       "      <td>1.0</td>\n",
       "      <td>0.0</td>\n",
       "      <td>0.0</td>\n",
       "      <td>0.0</td>\n",
       "      <td>0.0</td>\n",
       "      <td>0.000</td>\n",
       "      <td>0.333333</td>\n",
       "      <td>3.507522</td>\n",
       "    </tr>\n",
       "    <tr>\n",
       "      <th>2</th>\n",
       "      <td>0.425197</td>\n",
       "      <td>0.867391</td>\n",
       "      <td>0.405820</td>\n",
       "      <td>0.5625</td>\n",
       "      <td>0.865306</td>\n",
       "      <td>0.142322</td>\n",
       "      <td>0.537165</td>\n",
       "      <td>0.448536</td>\n",
       "      <td>0.112838</td>\n",
       "      <td>0.775094</td>\n",
       "      <td>...</td>\n",
       "      <td>0.0</td>\n",
       "      <td>0.0</td>\n",
       "      <td>1.0</td>\n",
       "      <td>0.0</td>\n",
       "      <td>0.0</td>\n",
       "      <td>0.0</td>\n",
       "      <td>0.0</td>\n",
       "      <td>0.375</td>\n",
       "      <td>0.333333</td>\n",
       "      <td>3.507522</td>\n",
       "    </tr>\n",
       "    <tr>\n",
       "      <th>3</th>\n",
       "      <td>0.425197</td>\n",
       "      <td>0.867391</td>\n",
       "      <td>0.405820</td>\n",
       "      <td>0.5625</td>\n",
       "      <td>0.865306</td>\n",
       "      <td>0.142322</td>\n",
       "      <td>0.537165</td>\n",
       "      <td>0.448536</td>\n",
       "      <td>0.112838</td>\n",
       "      <td>0.775094</td>\n",
       "      <td>...</td>\n",
       "      <td>0.0</td>\n",
       "      <td>0.0</td>\n",
       "      <td>1.0</td>\n",
       "      <td>0.0</td>\n",
       "      <td>0.0</td>\n",
       "      <td>0.0</td>\n",
       "      <td>0.0</td>\n",
       "      <td>1.000</td>\n",
       "      <td>0.333333</td>\n",
       "      <td>3.507522</td>\n",
       "    </tr>\n",
       "    <tr>\n",
       "      <th>4</th>\n",
       "      <td>0.425197</td>\n",
       "      <td>0.867391</td>\n",
       "      <td>0.405820</td>\n",
       "      <td>0.5625</td>\n",
       "      <td>0.865306</td>\n",
       "      <td>0.142322</td>\n",
       "      <td>0.537165</td>\n",
       "      <td>0.448536</td>\n",
       "      <td>0.112838</td>\n",
       "      <td>0.775094</td>\n",
       "      <td>...</td>\n",
       "      <td>0.0</td>\n",
       "      <td>0.0</td>\n",
       "      <td>1.0</td>\n",
       "      <td>0.0</td>\n",
       "      <td>0.0</td>\n",
       "      <td>0.0</td>\n",
       "      <td>0.0</td>\n",
       "      <td>0.500</td>\n",
       "      <td>0.333333</td>\n",
       "      <td>3.507522</td>\n",
       "    </tr>\n",
       "    <tr>\n",
       "      <th>...</th>\n",
       "      <td>...</td>\n",
       "      <td>...</td>\n",
       "      <td>...</td>\n",
       "      <td>...</td>\n",
       "      <td>...</td>\n",
       "      <td>...</td>\n",
       "      <td>...</td>\n",
       "      <td>...</td>\n",
       "      <td>...</td>\n",
       "      <td>...</td>\n",
       "      <td>...</td>\n",
       "      <td>...</td>\n",
       "      <td>...</td>\n",
       "      <td>...</td>\n",
       "      <td>...</td>\n",
       "      <td>...</td>\n",
       "      <td>...</td>\n",
       "      <td>...</td>\n",
       "      <td>...</td>\n",
       "      <td>...</td>\n",
       "      <td>...</td>\n",
       "    </tr>\n",
       "    <tr>\n",
       "      <th>124</th>\n",
       "      <td>0.425197</td>\n",
       "      <td>0.867391</td>\n",
       "      <td>0.405820</td>\n",
       "      <td>0.5625</td>\n",
       "      <td>0.865306</td>\n",
       "      <td>0.142322</td>\n",
       "      <td>0.564823</td>\n",
       "      <td>0.198612</td>\n",
       "      <td>0.381757</td>\n",
       "      <td>0.227198</td>\n",
       "      <td>...</td>\n",
       "      <td>0.0</td>\n",
       "      <td>0.0</td>\n",
       "      <td>1.0</td>\n",
       "      <td>0.0</td>\n",
       "      <td>0.0</td>\n",
       "      <td>0.0</td>\n",
       "      <td>0.0</td>\n",
       "      <td>0.375</td>\n",
       "      <td>0.333333</td>\n",
       "      <td>1.714028</td>\n",
       "    </tr>\n",
       "    <tr>\n",
       "      <th>125</th>\n",
       "      <td>0.425197</td>\n",
       "      <td>0.867391</td>\n",
       "      <td>0.405820</td>\n",
       "      <td>0.5625</td>\n",
       "      <td>0.865306</td>\n",
       "      <td>0.142322</td>\n",
       "      <td>0.222126</td>\n",
       "      <td>0.382231</td>\n",
       "      <td>0.463176</td>\n",
       "      <td>0.792578</td>\n",
       "      <td>...</td>\n",
       "      <td>0.0</td>\n",
       "      <td>0.0</td>\n",
       "      <td>1.0</td>\n",
       "      <td>0.0</td>\n",
       "      <td>0.0</td>\n",
       "      <td>0.0</td>\n",
       "      <td>0.0</td>\n",
       "      <td>0.250</td>\n",
       "      <td>0.333333</td>\n",
       "      <td>2.772852</td>\n",
       "    </tr>\n",
       "    <tr>\n",
       "      <th>126</th>\n",
       "      <td>0.425197</td>\n",
       "      <td>0.867391</td>\n",
       "      <td>0.405820</td>\n",
       "      <td>0.5625</td>\n",
       "      <td>0.865306</td>\n",
       "      <td>0.142322</td>\n",
       "      <td>0.617978</td>\n",
       "      <td>0.442154</td>\n",
       "      <td>0.138514</td>\n",
       "      <td>0.778067</td>\n",
       "      <td>...</td>\n",
       "      <td>0.0</td>\n",
       "      <td>0.0</td>\n",
       "      <td>1.0</td>\n",
       "      <td>0.0</td>\n",
       "      <td>0.0</td>\n",
       "      <td>0.0</td>\n",
       "      <td>0.0</td>\n",
       "      <td>0.375</td>\n",
       "      <td>0.333333</td>\n",
       "      <td>2.578852</td>\n",
       "    </tr>\n",
       "    <tr>\n",
       "      <th>127</th>\n",
       "      <td>0.803150</td>\n",
       "      <td>0.067391</td>\n",
       "      <td>0.820712</td>\n",
       "      <td>0.9375</td>\n",
       "      <td>0.171429</td>\n",
       "      <td>0.174295</td>\n",
       "      <td>0.537165</td>\n",
       "      <td>0.448536</td>\n",
       "      <td>0.112838</td>\n",
       "      <td>0.775094</td>\n",
       "      <td>...</td>\n",
       "      <td>0.0</td>\n",
       "      <td>0.0</td>\n",
       "      <td>1.0</td>\n",
       "      <td>0.0</td>\n",
       "      <td>0.0</td>\n",
       "      <td>0.0</td>\n",
       "      <td>0.0</td>\n",
       "      <td>0.375</td>\n",
       "      <td>0.333333</td>\n",
       "      <td>2.772852</td>\n",
       "    </tr>\n",
       "    <tr>\n",
       "      <th>128</th>\n",
       "      <td>0.519685</td>\n",
       "      <td>0.284783</td>\n",
       "      <td>0.549165</td>\n",
       "      <td>0.4375</td>\n",
       "      <td>0.542857</td>\n",
       "      <td>0.245440</td>\n",
       "      <td>0.537165</td>\n",
       "      <td>0.448536</td>\n",
       "      <td>0.112838</td>\n",
       "      <td>0.775094</td>\n",
       "      <td>...</td>\n",
       "      <td>0.0</td>\n",
       "      <td>0.0</td>\n",
       "      <td>1.0</td>\n",
       "      <td>0.0</td>\n",
       "      <td>0.0</td>\n",
       "      <td>0.0</td>\n",
       "      <td>0.0</td>\n",
       "      <td>0.250</td>\n",
       "      <td>0.333333</td>\n",
       "      <td>2.772852</td>\n",
       "    </tr>\n",
       "  </tbody>\n",
       "</table>\n",
       "<p>129 rows × 63 columns</p>\n",
       "</div>"
      ],
      "text/plain": [
       "     Biaryl_q(N)_C  Biaryl_q(N+1)_C  Biaryl_xTB Chrg_C  Biaryl_q(N)_H  \\\n",
       "0         0.425197         0.867391           0.405820         0.5625   \n",
       "1         0.425197         0.867391           0.405820         0.5625   \n",
       "2         0.425197         0.867391           0.405820         0.5625   \n",
       "3         0.425197         0.867391           0.405820         0.5625   \n",
       "4         0.425197         0.867391           0.405820         0.5625   \n",
       "..             ...              ...                ...            ...   \n",
       "124       0.425197         0.867391           0.405820         0.5625   \n",
       "125       0.425197         0.867391           0.405820         0.5625   \n",
       "126       0.425197         0.867391           0.405820         0.5625   \n",
       "127       0.803150         0.067391           0.820712         0.9375   \n",
       "128       0.519685         0.284783           0.549165         0.4375   \n",
       "\n",
       "     Biaryl_q(N+1)_H  Biaryl_xTB Chrg_H  Olefin_q(N+1)_C1  \\\n",
       "0           0.865306           0.142322          0.537165   \n",
       "1           0.865306           0.142322          0.537165   \n",
       "2           0.865306           0.142322          0.537165   \n",
       "3           0.865306           0.142322          0.537165   \n",
       "4           0.865306           0.142322          0.537165   \n",
       "..               ...                ...               ...   \n",
       "124         0.865306           0.142322          0.564823   \n",
       "125         0.865306           0.142322          0.222126   \n",
       "126         0.865306           0.142322          0.617978   \n",
       "127         0.171429           0.174295          0.537165   \n",
       "128         0.542857           0.245440          0.537165   \n",
       "\n",
       "     Olefin_Nucleophilicity_C1  Olefin_s-_C1  Olefin_xTB Chrg_C1  ...  Add_13  \\\n",
       "0                     0.448536      0.112838            0.775094  ...     0.0   \n",
       "1                     0.448536      0.112838            0.775094  ...     0.0   \n",
       "2                     0.448536      0.112838            0.775094  ...     0.0   \n",
       "3                     0.448536      0.112838            0.775094  ...     0.0   \n",
       "4                     0.448536      0.112838            0.775094  ...     0.0   \n",
       "..                         ...           ...                 ...  ...     ...   \n",
       "124                   0.198612      0.381757            0.227198  ...     0.0   \n",
       "125                   0.382231      0.463176            0.792578  ...     0.0   \n",
       "126                   0.442154      0.138514            0.778067  ...     0.0   \n",
       "127                   0.448536      0.112838            0.775094  ...     0.0   \n",
       "128                   0.448536      0.112838            0.775094  ...     0.0   \n",
       "\n",
       "     Sol_0  Sol_1  Sol_2  Sol_3  Sol_4  Sol_5  Current  Temperature  \\\n",
       "0      0.0    1.0    0.0    0.0    0.0    0.0    0.375     0.333333   \n",
       "1      0.0    1.0    0.0    0.0    0.0    0.0    0.000     0.333333   \n",
       "2      0.0    1.0    0.0    0.0    0.0    0.0    0.375     0.333333   \n",
       "3      0.0    1.0    0.0    0.0    0.0    0.0    1.000     0.333333   \n",
       "4      0.0    1.0    0.0    0.0    0.0    0.0    0.500     0.333333   \n",
       "..     ...    ...    ...    ...    ...    ...      ...          ...   \n",
       "124    0.0    1.0    0.0    0.0    0.0    0.0    0.375     0.333333   \n",
       "125    0.0    1.0    0.0    0.0    0.0    0.0    0.250     0.333333   \n",
       "126    0.0    1.0    0.0    0.0    0.0    0.0    0.375     0.333333   \n",
       "127    0.0    1.0    0.0    0.0    0.0    0.0    0.375     0.333333   \n",
       "128    0.0    1.0    0.0    0.0    0.0    0.0    0.250     0.333333   \n",
       "\n",
       "     ddG(kcal/mol)  \n",
       "0         3.507522  \n",
       "1         3.507522  \n",
       "2         3.507522  \n",
       "3         3.507522  \n",
       "4         3.507522  \n",
       "..             ...  \n",
       "124       1.714028  \n",
       "125       2.772852  \n",
       "126       2.578852  \n",
       "127       2.772852  \n",
       "128       2.772852  \n",
       "\n",
       "[129 rows x 63 columns]"
      ]
     },
     "execution_count": 5,
     "metadata": {},
     "output_type": "execute_result"
    }
   ],
   "source": [
    "desc_dataset"
   ]
  },
  {
   "cell_type": "markdown",
   "id": "functional-hampton",
   "metadata": {},
   "source": [
    "# Feature Selection with RFECV Algorithm"
   ]
  },
  {
   "cell_type": "code",
   "execution_count": 6,
   "id": "herbal-trustee",
   "metadata": {
    "ExecuteTime": {
     "end_time": "2022-03-24T13:47:57.504643Z",
     "start_time": "2022-03-24T13:47:43.161209Z"
    }
   },
   "outputs": [
    {
     "name": "stdout",
     "output_type": "stream",
     "text": [
      "----Reserved Descriptors----\n",
      "Size: 39\n"
     ]
    }
   ],
   "source": [
    "model = ExtraTreesRegressor(n_jobs=-1,random_state=random_seed)\n",
    "cv = KFold(n_splits=10, shuffle=True, random_state=random_seed)\n",
    "selector = RFECV(model, step=1, min_features_to_select=1,cv=cv, n_jobs=-1)\n",
    "selector = selector.fit(train_val_x, train_val_y)\n",
    "sel_index = np.where(selector.support_==True)[0]\n",
    "print('----Reserved Descriptors----')\n",
    "print('Size: %d'%len(sel_index))"
   ]
  },
  {
   "cell_type": "code",
   "execution_count": 7,
   "id": "biblical-runner",
   "metadata": {
    "ExecuteTime": {
     "end_time": "2022-03-24T13:47:58.804356Z",
     "start_time": "2022-03-24T13:47:58.681757Z"
    }
   },
   "outputs": [
    {
     "data": {
      "text/plain": [
       "Text(0, 0.5, 'Score')"
      ]
     },
     "execution_count": 7,
     "metadata": {},
     "output_type": "execute_result"
    },
    {
     "data": {
      "image/png": "[encoded data removed]",
      "text/plain": [
       "<Figure size 576x360 with 1 Axes>"
      ]
     },
     "metadata": {
      "needs_background": "light"
     },
     "output_type": "display_data"
    }
   ],
   "source": [
    "tick_fontsize = 15\n",
    "label_fontsize = 18\n",
    "fig = plt.figure(figsize=(8,5))\n",
    "y_r2 = np.flipud(selector.grid_scores_)\n",
    "x_1_index = [item+1 for item in list(range(len(y_r2)))]\n",
    "\n",
    "plt.plot(x_1_index,y_r2,c='royalblue')\n",
    "plt.plot([np.argmax(y_r2)+1,np.argmax(y_r2)+1],[np.min(y_r2),np.max(y_r2)],c='lightgreen',linewidth=0.5)\n",
    "\n",
    "init_range = [item+1 for item in list(range(len(y_r2)))]\n",
    "reverse_range = list(range(len(y_r2),0,-1))\n",
    "reverse_init_range_map = {rev:init for rev,init in zip(reverse_range,init_range)}\n",
    "reverse_init_range_map[len(y_r2)+1] = 0\n",
    "reverse_init_range_map[50] = len(y_r2)+1-50\n",
    "reverse_init_range_map[0] = len(y_r2)+1\n",
    "num_range = list(range(60,-10,-10))\n",
    "\n",
    "plt.xticks([reverse_init_range_map[item] for item in num_range],\n",
    "           list(map(str,num_range)),fontsize=tick_fontsize)\n",
    "plt.yticks(fontsize=tick_fontsize)\n",
    "\n",
    "plt.text(0.5,0.67,'Max Score: %.3f'%np.max(y_r2),fontsize=tick_fontsize)\n",
    "plt.text(0.5,0.65,'Feature Number: %d'%(len(y_r2) - np.argmax(y_r2)),fontsize=tick_fontsize)\n",
    "\n",
    "plt.xlabel('Feature Number',fontsize=label_fontsize)\n",
    "plt.ylabel('Score',fontsize=label_fontsize)"
   ]
  },
  {
   "cell_type": "markdown",
   "id": "mexican-stamp",
   "metadata": {},
   "source": [
    "# Regression Performan at Cross-Validation and Out-of-Sample Test Set"
   ]
  },
  {
   "cell_type": "markdown",
   "id": "widespread-mechanics",
   "metadata": {},
   "source": [
    "## Cross-Validation"
   ]
  },
  {
   "cell_type": "code",
   "execution_count": 9,
   "id": "saved-cradle",
   "metadata": {
    "ExecuteTime": {
     "end_time": "2022-03-24T13:48:42.010906Z",
     "start_time": "2022-03-24T13:48:28.888408Z"
    }
   },
   "outputs": [
    {
     "name": "stdout",
     "output_type": "stream",
     "text": [
      "MAE: 0.2291, R2: 0.9147, Pearson R: 0.9566\n"
     ]
    }
   ],
   "source": [
    "val_Y = []\n",
    "val_P = []\n",
    "kfold = KFold(n_splits=10, shuffle=True, random_state=random_seed)\n",
    "for train_idx,val_idx in kfold.split(train_val_x):\n",
    "    train_x,val_x = train_val_x[train_idx],train_val_x[val_idx]\n",
    "    train_y,val_y = train_val_y[train_idx],train_val_y[val_idx]\n",
    "    val_P_ = []\n",
    "    for try_ in range(10): \n",
    "        model.fit(train_x,train_y)\n",
    "        val_p = model.predict(val_x)\n",
    "        val_P_.append(val_p)\n",
    "    val_P_ = np.mean(val_P_,axis=0)\n",
    "    val_P.append(val_P_)\n",
    "    val_Y.append(val_y)\n",
    "val_P = np.concatenate(val_P)\n",
    "val_Y = np.concatenate(val_Y)\n",
    "mae = mean_absolute_error(val_Y,val_P)\n",
    "r2 = r2_score(val_Y,val_P)\n",
    "pearson_r,_ = pearsonr(val_Y,val_P)\n",
    "\n",
    "print(\"MAE: %.4f, R2: %.4f, Pearson R: %.4f\"%(mae,r2,pearson_r))"
   ]
  },
  {
   "cell_type": "markdown",
   "id": "protective-shepherd",
   "metadata": {},
   "source": [
    "## Out-of-Sample Test Set"
   ]
  },
  {
   "cell_type": "code",
   "execution_count": 10,
   "id": "geological-celebrity",
   "metadata": {
    "ExecuteTime": {
     "end_time": "2022-03-24T13:48:49.132835Z",
     "start_time": "2022-03-24T13:48:47.651631Z"
    }
   },
   "outputs": [
    {
     "name": "stdout",
     "output_type": "stream",
     "text": [
      "MAE: 0.3514, R2: 0.8771, Pearson R: 0.9621\n"
     ]
    }
   ],
   "source": [
    "test_P = []\n",
    "feature_importance = []\n",
    "for _ in range(10):\n",
    "    model.fit(train_val_x[:,sel_index],train_val_y)\n",
    "    feature_importance.append(model.feature_importances_)\n",
    "    test_p = model.predict(test_x[:,sel_index])\n",
    "    test_P.append(test_p)\n",
    "test_P = np.mean(test_P,axis=0)\n",
    "feature_importance = np.mean(feature_importance,axis=0)\n",
    "shorted_feature_names = np.array(physorg_desc_names)[sel_index]\n",
    "sorted_feature_index = np.argsort(feature_importance)\n",
    "importance_desc_names = shorted_feature_names[sorted_feature_index]\n",
    "importance_of_sel_desc = feature_importance[sorted_feature_index]\n",
    "\n",
    "r2 = r2_score(test_y,test_P)\n",
    "pearson_r,_ = pearsonr(test_y,test_P)\n",
    "mae = mean_absolute_error(test_y,test_P)\n",
    "print(\"MAE: %.4f, R2: %.4f, Pearson R: %.4f\"%(mae,r2,pearson_r))"
   ]
  },
  {
   "cell_type": "markdown",
   "id": "employed-letter",
   "metadata": {},
   "source": [
    "# Visualization"
   ]
  },
  {
   "cell_type": "markdown",
   "id": "maritime-coffee",
   "metadata": {},
   "source": [
    "## Regression"
   ]
  },
  {
   "cell_type": "code",
   "execution_count": 11,
   "id": "consolidated-identity",
   "metadata": {
    "ExecuteTime": {
     "end_time": "2022-03-24T13:48:52.049018Z",
     "start_time": "2022-03-24T13:48:51.730984Z"
    }
   },
   "outputs": [
    {
     "data": {
      "image/png": "[encoded data removed]",
      "text/plain": [
       "<Figure size 720x288 with 2 Axes>"
      ]
     },
     "metadata": {
      "needs_background": "light"
     },
     "output_type": "display_data"
    }
   ],
   "source": [
    "plt.figure(figsize=(10,4))\n",
    "plt.subplot(121)\n",
    "plt.scatter(val_Y,val_P,c='royalblue')\n",
    "\n",
    "plt.text(0,3.6,'$R^2$: %.3f'%r2_score(val_Y,val_P),fontsize=14)\n",
    "plt.text(0,3.25,'Pearson R: %.3f'%pearsonr(val_Y,val_P)[0],fontsize=14)\n",
    "plt.text(0,2.9,'MAE: %.3f kcal/mol'%mean_absolute_error(val_Y,val_P),fontsize=14)\n",
    "\n",
    "plt.plot([0,ddG.max()],[0,ddG.max()],c='royalblue')\n",
    "plt.xlabel('$\\Delta$$\\Delta$$G_E$$_x$$_p$',fontsize=14)\n",
    "plt.ylabel('$\\Delta$$\\Delta$$G_M$$_L$',fontsize=14)\n",
    "plt.xticks([0,1,2,3,4],list(map(str,[0,1,2,3,4])),fontsize=13)\n",
    "plt.yticks([0,1,2,3,4],list(map(str,[0,1,2,3,4])),fontsize=13)\n",
    "plt.tick_params(bottom='on',left='on')\n",
    "#plt.yticks(fontsize=14)\n",
    "\n",
    "\n",
    "plt.subplot(122)\n",
    "plt.scatter(test_y,test_P,c='yellowgreen')\n",
    "plt.text(0,3.6,'$R^2$: %.3f'%r2_score(test_y,test_P),fontsize=14)\n",
    "plt.text(0,3.25,'Pearson R: %.3f'%pearsonr(test_y,test_P)[0],fontsize=14)\n",
    "plt.text(0,2.9,'MAE: %.3f kcal/mol'%mean_absolute_error(test_y,test_P),fontsize=14)\n",
    "plt.plot([0,ddG.max()],[0,ddG.max()],c='yellowgreen')\n",
    "plt.xlabel('$\\Delta$$\\Delta$$G_E$$_x$$_p$',fontsize=14)\n",
    "plt.ylabel('$\\Delta$$\\Delta$$G_M$$_L$',fontsize=14)\n",
    "plt.xticks([0,1,2,3,4],list(map(str,[0,1,2,3,4])),fontsize=13)\n",
    "plt.yticks([0,1,2,3,4],list(map(str,[0,1,2,3,4])),fontsize=13)\n",
    "plt.tick_params(bottom='on',left='on')\n",
    "plt.tight_layout()"
   ]
  },
  {
   "cell_type": "markdown",
   "id": "protective-renewal",
   "metadata": {},
   "source": [
    "## Feature Importance"
   ]
  },
  {
   "cell_type": "code",
   "execution_count": 12,
   "id": "lightweight-france",
   "metadata": {
    "ExecuteTime": {
     "end_time": "2022-03-24T13:48:53.771260Z",
     "start_time": "2022-03-24T13:48:53.768188Z"
    }
   },
   "outputs": [],
   "source": [
    "color_map = {}\n",
    "for name in importance_desc_names:\n",
    "    if \"Olefin\" in name:\n",
    "        color_map[name] = \"bisque\"\n",
    "    elif \"TDG\" in name:\n",
    "        color_map[name] = \"lightblue\""
   ]
  },
  {
   "cell_type": "code",
   "execution_count": 13,
   "id": "selected-bristol",
   "metadata": {
    "ExecuteTime": {
     "end_time": "2022-03-24T13:48:54.488661Z",
     "start_time": "2022-03-24T13:48:54.485756Z"
    }
   },
   "outputs": [],
   "source": [
    "importance_colors = []\n",
    "for name in importance_desc_names:\n",
    "    try:\n",
    "        importance_colors.append(color_map[name])\n",
    "    except:\n",
    "        importance_colors.append('gray')"
   ]
  },
  {
   "cell_type": "code",
   "execution_count": 14,
   "id": "normal-float",
   "metadata": {
    "ExecuteTime": {
     "end_time": "2022-03-24T13:48:55.449143Z",
     "start_time": "2022-03-24T13:48:55.202786Z"
    },
    "scrolled": true
   },
   "outputs": [
    {
     "name": "stdout",
     "output_type": "stream",
     "text": [
      "\n"
     ]
    },
    {
     "data": {
      "image/png": "[encoded data removed]",
      "text/plain": [
       "<Figure size 936x936 with 1 Axes>"
      ]
     },
     "metadata": {
      "needs_background": "light"
     },
     "output_type": "display_data"
    }
   ],
   "source": [
    "fig = plt.figure(figsize=(13,13))\n",
    "\n",
    "plt.barh(importance_desc_names, importance_of_sel_desc, color=importance_colors,align='center')\n",
    "plt.xlabel('Feature Importance Scores',fontsize=19)\n",
    "plt.xticks([0,0.05,0.1,0.15,0.2,0.25],[\"0.00\",\"0.05\",\"0.10\",'0.15',\"0.20\",\"0.25\"],fontsize=15)\n",
    "plt.yticks(fontsize=15)\n",
    "plt.tick_params(left='on',bottom='on')\n",
    "plt.tight_layout()\n",
    "print()"
   ]
  }
 ],
 "metadata": {
  "kernelspec": {
   "display_name": "Python 3 (ipykernel)",
   "language": "python",
   "name": "python3"
  },
  "language_info": {
   "codemirror_mode": {
    "name": "ipython",
    "version": 3
   },
   "file_extension": ".py",
   "mimetype": "text/x-python",
   "name": "python",
   "nbconvert_exporter": "python",
   "pygments_lexer": "ipython3",
   "version": "3.8.5"
  },
  "toc": {
   "base_numbering": 1,
   "nav_menu": {},
   "number_sections": true,
   "sideBar": true,
   "skip_h1_title": false,
   "title_cell": "Table of Contents",
   "title_sidebar": "Contents",
   "toc_cell": false,
   "toc_position": {},
   "toc_section_display": true,
   "toc_window_display": true
  },
  "varInspector": {
   "cols": {
    "lenName": 16,
    "lenType": 16,
    "lenVar": 40
   },
   "kernels_config": {
    "python": {
     "delete_cmd_postfix": "",
     "delete_cmd_prefix": "del ",
     "library": "var_list.py",
     "varRefreshCmd": "print(var_dic_list())"
    },
    "r": {
     "delete_cmd_postfix": ") ",
     "delete_cmd_prefix": "rm(",
     "library": "var_list.r",
     "varRefreshCmd": "cat(var_dic_list()) "
    }
   },
   "types_to_exclude": [
    "module",
    "function",
    "builtin_function_or_method",
    "instance",
    "_Feature"
   ],
   "window_display": false
  }
 },
 "nbformat": 4,
 "nbformat_minor": 5
}
