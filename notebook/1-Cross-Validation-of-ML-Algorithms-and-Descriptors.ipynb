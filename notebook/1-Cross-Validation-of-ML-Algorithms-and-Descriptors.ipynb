{
 "cells": [
  {
   "cell_type": "markdown",
   "id": "norman-butter",
   "metadata": {},
   "source": [
    "# Load Dependency"
   ]
  },
  {
   "cell_type": "code",
   "execution_count": 2,
   "id": "planned-grass",
   "metadata": {
    "ExecuteTime": {
     "end_time": "2022-04-07T11:06:38.625329Z",
     "start_time": "2022-04-07T11:06:38.620060Z"
    }
   },
   "outputs": [],
   "source": [
    "import pandas as pd\n",
    "from sklearn.ensemble import RandomForestRegressor,ExtraTreesRegressor,AdaBoostRegressor,\\\n",
    "GradientBoostingRegressor,BaggingRegressor\n",
    "from xgboost import XGBRegressor\n",
    "from sklearn.neural_network import MLPRegressor\n",
    "from sklearn.model_selection import KFold\n",
    "from sklearn.decomposition import PCA\n",
    "from sklearn.metrics import r2_score,mean_absolute_error\n",
    "from script.DescriptorProcess import genDescMap,readMolandAtom,getmorganfp,calc_rdkit_desc,calc_Dscribe_Desc,\\\n",
    "process_desc,genCompoundWiseDesc,get_atom_species,maxminscale\n",
    "from scipy.stats import pearsonr\n",
    "from openbabel.pybel import (readfile,Outputfile)\n",
    "import glob\n",
    "import seaborn as sns\n",
    "import matplotlib.pyplot as plt\n",
    "import numpy as np\n",
    "random_seed = 2022"
   ]
  },
  {
   "cell_type": "markdown",
   "id": "arctic-correlation",
   "metadata": {},
   "source": [
    "# Data Preprocess"
   ]
  },
  {
   "cell_type": "code",
   "execution_count": 3,
   "id": "breeding-notion",
   "metadata": {
    "ExecuteTime": {
     "end_time": "2022-04-07T11:06:41.805704Z",
     "start_time": "2022-04-07T11:06:41.794534Z"
    }
   },
   "outputs": [],
   "source": [
    "dataset = pd.read_csv('../dataset.csv',index_col=0)\n",
    "biaryl_smiles = dataset['Biaryl'].to_list()\n",
    "olefin_smiles = dataset['Olefin'].to_list()\n",
    "tdg_smiles = dataset['TDG'].to_list()\n",
    "\n",
    "additive_smiles = dataset['Additive'].to_list()\n",
    "solvent_smiles = dataset['Solvent'].to_list()\n",
    "current = dataset['Current(mA)'].to_list()\n",
    "temperature = dataset['Temperature'].to_list()\n",
    "\n",
    "ee = dataset['ee'].to_numpy()\n",
    "ddG = dataset['ddG(kcal/mol)'].to_numpy()\n",
    "\n",
    "biaryl_smi_set = list(set(biaryl_smiles))\n",
    "olefin_smi_set = list(set(olefin_smiles))\n",
    "tdg_smi_set = list(set(tdg_smiles))"
   ]
  },
  {
   "cell_type": "markdown",
   "id": "alternative-representative",
   "metadata": {},
   "source": [
    "## PhysOrg Descriptor Generation"
   ]
  },
  {
   "cell_type": "code",
   "execution_count": 4,
   "id": "individual-stephen",
   "metadata": {
    "ExecuteTime": {
     "end_time": "2022-04-07T11:06:43.346293Z",
     "start_time": "2022-04-07T11:06:43.330562Z"
    }
   },
   "outputs": [],
   "source": [
    "biaryl_desc_map,biaryl_desc_names = genDescMap('../descriptors/biaryl_desc_map.csv',True)\n",
    "olefin_desc_map,olefin_desc_names = genDescMap('../descriptors/olefin_desc_map.csv',True)\n",
    "tdg_desc_map,tdg_desc_names = genDescMap('../descriptors/tdg_desc_map.csv',True)\n",
    "physorg_desc_map = {}\n",
    "physorg_desc_map.update(biaryl_desc_map)\n",
    "physorg_desc_map.update(olefin_desc_map)\n",
    "physorg_desc_map.update(tdg_desc_map)\n",
    "add_desc_map = genDescMap('../descriptors/add_desc_map.csv')\n",
    "sol_desc_map = genDescMap('../descriptors/sol_desc_map.csv')\n",
    "physorg_desc = genCompoundWiseDesc(biaryl_smiles,olefin_smiles,tdg_smiles,physorg_desc_map,False)\n",
    "condition_desc = maxminscale(np.array([np.concatenate([add_desc_map[additive_smiles[i]],sol_desc_map[solvent_smiles[i]],\n",
    "                                 np.array([current[i],temperature[i]])]) for i in range(len(dataset))]))\n",
    "\n",
    "physorg_react_desc = np.concatenate([physorg_desc,condition_desc],axis=1)"
   ]
  },
  {
   "cell_type": "markdown",
   "id": "swiss-premiere",
   "metadata": {},
   "source": [
    "## Other Descptor Generation"
   ]
  },
  {
   "cell_type": "markdown",
   "id": "lesbian-kitchen",
   "metadata": {},
   "source": [
    "### Generate Geometry Map"
   ]
  },
  {
   "cell_type": "code",
   "execution_count": 5,
   "id": "naughty-statement",
   "metadata": {
    "ExecuteTime": {
     "end_time": "2022-04-07T11:06:45.525983Z",
     "start_time": "2022-04-07T11:06:45.480695Z"
    },
    "scrolled": true
   },
   "outputs": [],
   "source": [
    "all_smi_set = biaryl_smi_set + olefin_smi_set + tdg_smi_set\n",
    "mmff94_geom_files = glob.glob('../geometries/mmff94-level/*.sdf')\n",
    "smi_atoms_map = {}\n",
    "smi_mol_map = {}\n",
    "for file in mmff94_geom_files:\n",
    "    smi,mol,atoms = readMolandAtom(file)\n",
    "    smi_atoms_map[smi] = atoms\n",
    "    smi_mol_map[smi] = mol"
   ]
  },
  {
   "cell_type": "code",
   "execution_count": 6,
   "id": "critical-lightning",
   "metadata": {
    "ExecuteTime": {
     "end_time": "2022-04-07T11:06:46.315623Z",
     "start_time": "2022-04-07T11:06:46.300229Z"
    }
   },
   "outputs": [],
   "source": [
    "reactant_atom_species = get_atom_species(biaryl_smi_set+olefin_smi_set,smi_mol_map)\n",
    "tdg_atom_species = get_atom_species(tdg_smi_set,smi_mol_map)"
   ]
  },
  {
   "cell_type": "markdown",
   "id": "removable-aggregate",
   "metadata": {
    "ExecuteTime": {
     "end_time": "2022-03-24T05:39:01.066031Z",
     "start_time": "2022-03-24T05:39:01.047926Z"
    }
   },
   "source": [
    "### RDKit/FP"
   ]
  },
  {
   "cell_type": "code",
   "execution_count": 7,
   "id": "atomic-fraud",
   "metadata": {
    "ExecuteTime": {
     "end_time": "2022-04-07T11:06:48.592153Z",
     "start_time": "2022-04-07T11:06:47.631436Z"
    },
    "scrolled": true
   },
   "outputs": [],
   "source": [
    "smi_rdkit_map = {smi:calc_rdkit_desc(smi_mol_map[smi]) for smi in all_smi_set}\n",
    "smi_mf_map = {smi:getmorganfp(smi_mol_map[smi]) for smi in all_smi_set}"
   ]
  },
  {
   "cell_type": "markdown",
   "id": "automatic-visibility",
   "metadata": {
    "ExecuteTime": {
     "end_time": "2022-03-23T06:46:37.647583Z",
     "start_time": "2022-03-23T06:46:37.644240Z"
    }
   },
   "source": [
    "### MBTR"
   ]
  },
  {
   "cell_type": "code",
   "execution_count": 8,
   "id": "experimental-monster",
   "metadata": {
    "ExecuteTime": {
     "end_time": "2022-04-07T11:06:51.215312Z",
     "start_time": "2022-04-07T11:06:50.498506Z"
    }
   },
   "outputs": [],
   "source": [
    "mbtr_parameter_dict = {'k1':{\n",
    "                             \"geometry\": {\"function\": \"atomic_number\"},\n",
    "                             \"grid\": {\"min\": 0, \"max\": 8, \"n\": 10, \"sigma\": 0.1}},\n",
    "                       'k2':{\n",
    "                            \"geometry\": {\"function\": \"inverse_distance\"},\n",
    "                            \"grid\": {\"min\": 0, \"max\": 4, \"n\": 10, \"sigma\": 0.1},\n",
    "                            \"weighting\": {\"function\": \"exponential\", \"scale\": 0.5, \"cutoff\": 1e-3}},\n",
    "                       'k3':{\n",
    "                            \"geometry\": {\"function\": \"cosine\"},\n",
    "                            \"grid\": {\"min\": -1, \"max\": 4, \"n\": 10, \"sigma\": 0.1},\n",
    "                            \"weighting\": {\"function\": \"exponential\", \"scale\": 0.5, \"cutoff\": 1e-3}},\n",
    "                       'periodic':False,'normalization':'l2_each'\n",
    "                      }\n",
    "\n",
    "\n",
    "smi_mbtr_map = {}\n",
    "for smi in biaryl_smi_set+olefin_smi_set:\n",
    "    smi_mbtr_map[smi] = calc_Dscribe_Desc(smi,smi_atoms_map,reactant_atom_species,mbtr_parameter_dict,type_='MBTR')\n",
    "for smi in tdg_smi_set:\n",
    "    smi_mbtr_map[smi] = calc_Dscribe_Desc(smi,smi_atoms_map,tdg_atom_species,mbtr_parameter_dict,type_='MBTR')\n"
   ]
  },
  {
   "cell_type": "markdown",
   "id": "growing-gauge",
   "metadata": {},
   "source": [
    "### ACSF"
   ]
  },
  {
   "cell_type": "code",
   "execution_count": 9,
   "id": "handmade-office",
   "metadata": {
    "ExecuteTime": {
     "end_time": "2022-04-07T11:06:52.742099Z",
     "start_time": "2022-04-07T11:06:52.649165Z"
    }
   },
   "outputs": [],
   "source": [
    "acsf_parameter_dict = {'rcut':6,\n",
    "                       'g2_params':[[1, 1], [1, 2], [1, 3]],\n",
    "                       'g4_params':[[1, 1, 1], [1, 2, 1], [1, 1, -1], [1, 2, -1]]}\n",
    "\n",
    "smi_acsf_map = {}\n",
    "for smi in biaryl_smi_set+olefin_smi_set:\n",
    "    smi_acsf_map[smi] = calc_Dscribe_Desc(smi,smi_atoms_map,reactant_atom_species,acsf_parameter_dict,type_='ACSF')\n",
    "for smi in tdg_smi_set:\n",
    "    smi_acsf_map[smi] = calc_Dscribe_Desc(smi,smi_atoms_map,tdg_atom_species,acsf_parameter_dict,type_='ACSF')"
   ]
  },
  {
   "cell_type": "markdown",
   "id": "together-personality",
   "metadata": {},
   "source": [
    "### LMBTR"
   ]
  },
  {
   "cell_type": "code",
   "execution_count": 10,
   "id": "sublime-income",
   "metadata": {
    "ExecuteTime": {
     "end_time": "2022-04-07T11:07:24.924703Z",
     "start_time": "2022-04-07T11:06:54.185126Z"
    }
   },
   "outputs": [],
   "source": [
    "lmbtr_parameter_dict = {\"k2\":{\n",
    "                                \"geometry\": {\"function\": \"distance\"},\n",
    "                                \"grid\": {\"min\": 0, \"max\": 5, \"n\": 100, \"sigma\": 0.1},\n",
    "                                \"weighting\": {\"function\": \"exponential\", \"scale\": 0.5, \"cutoff\": 1e-3},\n",
    "                              },\n",
    "                        \"k3\":{\n",
    "                                \"geometry\": {\"function\": \"cosine\"},\n",
    "                                \"grid\": {\"min\": -1, \"max\": 4, \"n\": 100, \"sigma\": 0.1},\n",
    "                                \"weighting\": {\"function\": \"exponential\", \"scale\": 0.5, \"cutoff\": 1e-3},\n",
    "                             },\n",
    "                        \"periodic\":False,\"normalization\":\"l2_each\"\n",
    "                       }\n",
    "smi_lmbtr_map = {}\n",
    "for smi in biaryl_smi_set+olefin_smi_set:\n",
    "    smi_lmbtr_map[smi] = calc_Dscribe_Desc(smi,smi_atoms_map,reactant_atom_species,lmbtr_parameter_dict,type_='LMBTR')\n",
    "for smi in tdg_smi_set:\n",
    "    smi_lmbtr_map[smi] = calc_Dscribe_Desc(smi,smi_atoms_map,tdg_atom_species,lmbtr_parameter_dict,type_='LMBTR')\n"
   ]
  },
  {
   "cell_type": "markdown",
   "id": "smaller-chamber",
   "metadata": {},
   "source": [
    "### Generate Reaction Descriptors"
   ]
  },
  {
   "cell_type": "code",
   "execution_count": 11,
   "id": "political-friendship",
   "metadata": {
    "ExecuteTime": {
     "end_time": "2022-04-07T11:07:31.614895Z",
     "start_time": "2022-04-07T11:07:31.254897Z"
    }
   },
   "outputs": [],
   "source": [
    "rdkit_desc = genCompoundWiseDesc(biaryl_smiles,olefin_smiles,tdg_smiles,smi_rdkit_map)\n",
    "mf_desc = genCompoundWiseDesc(biaryl_smiles,olefin_smiles,tdg_smiles,smi_mf_map)\n",
    "mbtr_desc = genCompoundWiseDesc(biaryl_smiles,olefin_smiles,tdg_smiles,smi_mbtr_map)\n",
    "acsf_desc = genCompoundWiseDesc(biaryl_smiles,olefin_smiles,tdg_smiles,smi_acsf_map)\n",
    "lmbtr_desc = genCompoundWiseDesc(biaryl_smiles,olefin_smiles,tdg_smiles,smi_lmbtr_map)\n",
    "\n",
    "rdkit_react_desc = np.concatenate([rdkit_desc,condition_desc],axis=1)\n",
    "mf_react_desc = np.concatenate([mf_desc,condition_desc],axis=1)\n",
    "mbtr_react_desc = np.concatenate([mbtr_desc,condition_desc],axis=1)\n",
    "acsf_react_desc = np.concatenate([acsf_desc,condition_desc],axis=1)\n",
    "lmbtr_react_desc = np.concatenate([lmbtr_desc,condition_desc],axis=1)"
   ]
  },
  {
   "cell_type": "markdown",
   "id": "ambient-average",
   "metadata": {},
   "source": [
    "# Evaluate Different ML Models and Descriptors"
   ]
  },
  {
   "cell_type": "code",
   "execution_count": 13,
   "id": "particular-stamp",
   "metadata": {
    "ExecuteTime": {
     "end_time": "2022-03-24T10:02:54.552510Z",
     "start_time": "2022-03-24T08:39:42.058920Z"
    },
    "scrolled": true
   },
   "outputs": [
    {
     "name": "stdout",
     "output_type": "stream",
     "text": [
      "Model:   RF, Desc: PhysOrg, R2: 0.8934, PearsonR: 0.9459, MAE: 0.2686\n",
      "Model:   RF, Desc: RDKit, R2: 0.8810, PearsonR: 0.9396, MAE: 0.2762\n",
      "Model:   RF, Desc:   MF, R2: 0.9022, PearsonR: 0.9500, MAE: 0.2496\n",
      "Model:   RF, Desc: ACSF, R2: 0.8668, PearsonR: 0.9342, MAE: 0.2944\n",
      "Model:   RF, Desc: LMBTR, R2: 0.9007, PearsonR: 0.9506, MAE: 0.2570\n",
      "Model:   RF, Desc: MBTR, R2: 0.8948, PearsonR: 0.9470, MAE: 0.2616\n",
      "Model:   ET, Desc: PhysOrg, R2: 0.9177, PearsonR: 0.9584, MAE: 0.2282\n",
      "Model:   ET, Desc: RDKit, R2: 0.8727, PearsonR: 0.9345, MAE: 0.2654\n",
      "Model:   ET, Desc:   MF, R2: 0.9089, PearsonR: 0.9536, MAE: 0.2229\n",
      "Model:   ET, Desc: ACSF, R2: 0.8839, PearsonR: 0.9403, MAE: 0.2675\n",
      "Model:   ET, Desc: LMBTR, R2: 0.9000, PearsonR: 0.9493, MAE: 0.2447\n",
      "Model:   ET, Desc: MBTR, R2: 0.9022, PearsonR: 0.9499, MAE: 0.2431\n",
      "Model:   GB, Desc: PhysOrg, R2: 0.8859, PearsonR: 0.9414, MAE: 0.2790\n",
      "Model:   GB, Desc: RDKit, R2: 0.8235, PearsonR: 0.9091, MAE: 0.3137\n",
      "Model:   GB, Desc:   MF, R2: 0.8786, PearsonR: 0.9374, MAE: 0.2745\n",
      "Model:   GB, Desc: ACSF, R2: 0.8526, PearsonR: 0.9245, MAE: 0.3039\n",
      "Model:   GB, Desc: LMBTR, R2: 0.8796, PearsonR: 0.9385, MAE: 0.2803\n",
      "Model:   GB, Desc: MBTR, R2: 0.8799, PearsonR: 0.9386, MAE: 0.2784\n",
      "Model:  XGB, Desc: PhysOrg, R2: 0.8731, PearsonR: 0.9359, MAE: 0.2786\n",
      "Model:  XGB, Desc: RDKit, R2: 0.8397, PearsonR: 0.9185, MAE: 0.2921\n",
      "Model:  XGB, Desc:   MF, R2: 0.8610, PearsonR: 0.9299, MAE: 0.2820\n",
      "Model:  XGB, Desc: ACSF, R2: 0.8500, PearsonR: 0.9250, MAE: 0.3025\n",
      "Model:  XGB, Desc: LMBTR, R2: 0.8593, PearsonR: 0.9288, MAE: 0.2869\n",
      "Model:  XGB, Desc: MBTR, R2: 0.8493, PearsonR: 0.9240, MAE: 0.2818\n",
      "Model:   BG, Desc: PhysOrg, R2: 0.8837, PearsonR: 0.9403, MAE: 0.2744\n",
      "Model:   BG, Desc: RDKit, R2: 0.8789, PearsonR: 0.9380, MAE: 0.2818\n",
      "Model:   BG, Desc:   MF, R2: 0.8884, PearsonR: 0.9428, MAE: 0.2589\n",
      "Model:   BG, Desc: ACSF, R2: 0.8437, PearsonR: 0.9196, MAE: 0.3057\n",
      "Model:   BG, Desc: LMBTR, R2: 0.8925, PearsonR: 0.9459, MAE: 0.2684\n",
      "Model:   BG, Desc: MBTR, R2: 0.8940, PearsonR: 0.9456, MAE: 0.2642\n",
      "Model:   NN, Desc: PhysOrg, R2: 0.7683, PearsonR: 0.8849, MAE: 0.3781\n",
      "Model:   NN, Desc: RDKit, R2: 0.7791, PearsonR: 0.8884, MAE: 0.3547\n",
      "Model:   NN, Desc:   MF, R2: 0.8323, PearsonR: 0.9126, MAE: 0.3203\n",
      "Model:   NN, Desc: ACSF, R2: 0.8198, PearsonR: 0.9081, MAE: 0.3420\n",
      "Model:   NN, Desc: LMBTR, R2: 0.8366, PearsonR: 0.9171, MAE: 0.3364\n",
      "Model:   NN, Desc: MBTR, R2: 0.8234, PearsonR: 0.9121, MAE: 0.3239\n",
      "Model:  Ada, Desc: PhysOrg, R2: 0.8915, PearsonR: 0.9472, MAE: 0.2746\n",
      "Model:  Ada, Desc: RDKit, R2: 0.8802, PearsonR: 0.9428, MAE: 0.2926\n",
      "Model:  Ada, Desc:   MF, R2: 0.9066, PearsonR: 0.9545, MAE: 0.2575\n",
      "Model:  Ada, Desc: ACSF, R2: 0.8877, PearsonR: 0.9458, MAE: 0.2935\n",
      "Model:  Ada, Desc: LMBTR, R2: 0.8931, PearsonR: 0.9496, MAE: 0.2745\n",
      "Model:  Ada, Desc: MBTR, R2: 0.8902, PearsonR: 0.9475, MAE: 0.2832\n"
     ]
    }
   ],
   "source": [
    "models = [RandomForestRegressor(n_jobs=-1,random_state=random_seed),ExtraTreesRegressor(n_jobs=-1,random_state=random_seed),\n",
    "          GradientBoostingRegressor(random_state=random_seed),XGBRegressor(n_jobs=-1,random_state=random_seed),\n",
    "          BaggingRegressor(n_jobs=-1,random_state=random_seed),MLPRegressor(hidden_layer_sizes=(100,100),max_iter=1000,\n",
    "          random_state=random_seed),AdaBoostRegressor(RandomForestRegressor(n_jobs=-1,random_state=random_seed),\n",
    "                                                      random_state=random_seed)]\n",
    "model_names = ['RF','ET','GB','XGB','BG','NN','Ada']\n",
    "descs = [physorg_react_desc,rdkit_react_desc,mf_react_desc,acsf_react_desc,lmbtr_react_desc,mbtr_react_desc]\n",
    "desc_names = ['PhysOrg','RDKit','MF','ACSF','LMBTR','MBTR']\n",
    "performance_result = {}\n",
    "test_index = [21, 58, 61, 110, 112, 114, 116, 122, 124, 127]\n",
    "train_val_index = list(set(range(len(dataset))) - set(test_index))\n",
    "kfold = KFold(n_splits=10,shuffle=True,random_state=random_seed)\n",
    "for model_name,model in zip(model_names,models):\n",
    "    for desc_name,desc in zip(desc_names,descs):\n",
    "        \n",
    "        train_val_desc,train_val_target = desc[train_val_index],ddG[train_val_index]\n",
    "        all_test_y = []\n",
    "        all_test_p = []\n",
    "        for train_idx,test_idx in kfold.split(train_val_desc):\n",
    "            train_x,test_x = train_val_desc[train_idx],train_val_desc[test_idx]\n",
    "            train_y,test_y = train_val_target[train_idx],train_val_target[test_idx]\n",
    "            test_P = []\n",
    "            for try_ in range(10): \n",
    "                model.fit(train_x,train_y)\n",
    "                test_p = model.predict(test_x)\n",
    "                test_P.append(test_p)\n",
    "            test_p = np.mean(test_P,axis=0)\n",
    "            all_test_p.append(test_p)\n",
    "            all_test_y.append(test_y)\n",
    "        all_test_p = np.concatenate(all_test_p)\n",
    "        all_test_y = np.concatenate(all_test_y)\n",
    "        mae = mean_absolute_error(all_test_y,all_test_p)\n",
    "        r2 = r2_score(all_test_y,all_test_p)\n",
    "        pearson_r,_ = pearsonr(all_test_y,all_test_p)\n",
    "        performance_result[(model_name,desc_name)] = [mae,r2,pearson_r,all_test_y,all_test_p]\n",
    "        print('Model: %4s, Desc: %4s, R2: %.4f, PearsonR: %.4f, MAE: %.4f'%(model_name,desc_name,r2,pearson_r,mae))"
   ]
  },
  {
   "cell_type": "markdown",
   "id": "special-connecticut",
   "metadata": {
    "ExecuteTime": {
     "end_time": "2022-03-24T07:59:44.377059Z",
     "start_time": "2022-03-24T07:59:44.373196Z"
    }
   },
   "source": [
    "# Visualization the Results"
   ]
  },
  {
   "cell_type": "code",
   "execution_count": 34,
   "id": "functioning-orleans",
   "metadata": {
    "ExecuteTime": {
     "end_time": "2022-03-24T11:07:37.055487Z",
     "start_time": "2022-03-24T11:07:36.904656Z"
    }
   },
   "outputs": [
    {
     "data": {
      "text/plain": [
       "<AxesSubplot:>"
      ]
     },
     "execution_count": 34,
     "metadata": {},
     "output_type": "execute_result"
    },
    {
     "data": {
      "image/png": "[encoded data removed]",
      "text/plain": [
       "<Figure size 1296x576 with 1 Axes>"
      ]
     },
     "metadata": {},
     "output_type": "display_data"
    }
   ],
   "source": [
    "r2_map = np.zeros((len(desc_names),len(model_names)))\n",
    "for i,m in enumerate(model_names):\n",
    "    for j,d in enumerate(desc_names):\n",
    "        \n",
    "        r2_map[j,i] = performance_result[(m,d)][1]\n",
    "\n",
    "fig = plt.figure(figsize=(18,8))\n",
    "plt.yticks(rotation=0)\n",
    "sns.set(font_scale=1.5)\n",
    "sns.heatmap(r2_map,annot=True,fmt='.3g',xticklabels=model_names,yticklabels=desc_names,cmap='GnBu',cbar=False)"
   ]
  }
 ],
 "metadata": {
  "kernelspec": {
   "display_name": "Python 3 (ipykernel)",
   "language": "python",
   "name": "python3"
  },
  "language_info": {
   "codemirror_mode": {
    "name": "ipython",
    "version": 3
   },
   "file_extension": ".py",
   "mimetype": "text/x-python",
   "name": "python",
   "nbconvert_exporter": "python",
   "pygments_lexer": "ipython3",
   "version": "3.8.5"
  },
  "toc": {
   "base_numbering": 1,
   "nav_menu": {},
   "number_sections": true,
   "sideBar": true,
   "skip_h1_title": false,
   "title_cell": "Table of Contents",
   "title_sidebar": "Contents",
   "toc_cell": false,
   "toc_position": {},
   "toc_section_display": true,
   "toc_window_display": true
  },
  "varInspector": {
   "cols": {
    "lenName": 16,
    "lenType": 16,
    "lenVar": 40
   },
   "kernels_config": {
    "python": {
     "delete_cmd_postfix": "",
     "delete_cmd_prefix": "del ",
     "library": "var_list.py",
     "varRefreshCmd": "print(var_dic_list())"
    },
    "r": {
     "delete_cmd_postfix": ") ",
     "delete_cmd_prefix": "rm(",
     "library": "var_list.r",
     "varRefreshCmd": "cat(var_dic_list()) "
    }
   },
   "types_to_exclude": [
    "module",
    "function",
    "builtin_function_or_method",
    "instance",
    "_Feature"
   ],
   "window_display": false
  }
 },
 "nbformat": 4,
 "nbformat_minor": 5
}
